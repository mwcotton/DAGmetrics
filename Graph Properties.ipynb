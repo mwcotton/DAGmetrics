{
 "cells": [
  {
   "cell_type": "code",
   "execution_count": 2,
   "metadata": {},
   "outputs": [],
   "source": [
    "import numpy as np\n",
    "import scipy as sp\n",
    "import scipy.interpolate\n",
    "import matplotlib.pyplot as plt\n",
    "import minkowski_tools as mt"
   ]
  },
  {
   "cell_type": "code",
   "execution_count": 137,
   "metadata": {},
   "outputs": [
    {
     "data": {
      "text/plain": [
       "<module 'minkowski_tools' from '/Users/matthewcotton/OneDrive - Imperial College London/UROP Summer 2020/DAGmetrics/minkowski_tools.py'>"
      ]
     },
     "execution_count": 137,
     "metadata": {},
     "output_type": "execute_result"
    }
   ],
   "source": [
    "import importlib\n",
    "importlib.reload(mt)"
   ]
  },
  {
   "cell_type": "code",
   "execution_count": 48,
   "metadata": {},
   "outputs": [],
   "source": [
    "n=8000\n",
    "rand_points = np.random.uniform(size=(2, n-2))\n",
    "edge_points = np.array([[0.0, 1.0],[0.0, 1.0]])\n",
    "points = np.concatenate((rand_points, edge_points), axis=1)"
   ]
  },
  {
   "cell_type": "code",
   "execution_count": 54,
   "metadata": {},
   "outputs": [
    {
     "data": {
      "image/png": "[encoded data removed]",
      "text/plain": [
       "<Figure size 432x288 with 1 Axes>"
      ]
     },
     "metadata": {
      "needs_background": "light"
     },
     "output_type": "display_data"
    }
   ],
   "source": [
    "connections = mt.get_connections(points, radius=.6, pval=2)\n",
    "dists, prev = mt.djikstre(connections)\n",
    "\n",
    "vals = [elem for elem in dists.values() if np.isfinite(elem)]\n",
    "_ = plt.hist(vals, bins=np.arange(0, 1.45, .01))"
   ]
  },
  {
   "cell_type": "markdown",
   "metadata": {},
   "source": [
    "Remove the distance wieghting, only view as DAQ"
   ]
  },
  {
   "cell_type": "code",
   "execution_count": 53,
   "metadata": {},
   "outputs": [
    {
     "data": {
      "text/plain": [
       "(array([ 132.,  372.,  656.,  935., 1146., 1357., 1564., 1138.,  536.,\n",
       "         156.]),\n",
       " array([0.        , 0.14142137, 0.28284273, 0.4242641 , 0.56568546,\n",
       "        0.70710683, 0.8485282 , 0.98994956, 1.13137093, 1.27279229,\n",
       "        1.41421366]),\n",
       " <a list of 10 Patch objects>)"
      ]
     },
     "execution_count": 53,
     "metadata": {},
     "output_type": "execute_result"
    },
    {
     "data": {
      "image/png": "[encoded data removed]",
      "text/plain": [
       "<Figure size 432x288 with 1 Axes>"
      ]
     },
     "metadata": {
      "needs_background": "light"
     },
     "output_type": "display_data"
    }
   ],
   "source": [
    "distsSimple, prevSimple = mt.djikstre(connections.astype(bool).astype(int))\n",
    "\n",
    "valsSimple = [elem for elem in dists.values() if np.isfinite(elem)]\n",
    "plt.hist(valsSimple)"
   ]
  },
  {
   "cell_type": "code",
   "execution_count": null,
   "metadata": {},
   "outputs": [],
   "source": []
  },
  {
   "cell_type": "code",
   "execution_count": null,
   "metadata": {},
   "outputs": [],
   "source": [
    "volume = [np.sum() for i in ]\n",
    "_ = plt.hist(volume, bins=np.arange(0, 1, 0.05))"
   ]
  }
 ],
 "metadata": {
  "kernelspec": {
   "display_name": "Python 3",
   "language": "python",
   "name": "python3"
  },
  "language_info": {
   "codemirror_mode": {
    "name": "ipython",
    "version": 3
   },
   "file_extension": ".py",
   "mimetype": "text/x-python",
   "name": "python",
   "nbconvert_exporter": "python",
   "pygments_lexer": "ipython3",
   "version": "3.7.3"
  }
 },
 "nbformat": 4,
 "nbformat_minor": 2
}
