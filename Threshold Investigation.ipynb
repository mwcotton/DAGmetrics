{
 "cells": [
  {
   "cell_type": "code",
   "execution_count": 2,
   "metadata": {},
   "outputs": [],
   "source": [
    "import numpy as np\n",
    "import scipy as sp\n",
    "import scipy.interpolate\n",
    "import matplotlib.pyplot as plt\n",
    "import pandas as pd\n",
    "import scipy.stats\n",
    "import scipy.optimize\n",
    "\n",
    "from scipy.optimize import curve_fit \n",
    "\n",
    "import minkowskitools as mt"
   ]
  },
  {
   "cell_type": "code",
   "execution_count": 2,
   "metadata": {},
   "outputs": [
    {
     "data": {
      "text/plain": [
       "<module 'minkowskitools' from '/Users/matthewcotton/OneDrive - Imperial College London/UROP Summer 2020/DAGmetrics/minkowskitools.py'>"
      ]
     },
     "execution_count": 2,
     "metadata": {},
     "output_type": "execute_result"
    }
   ],
   "source": [
    "import importlib\n",
    "importlib.reload(mt)"
   ]
  },
  {
   "cell_type": "code",
   "execution_count": 5,
   "metadata": {},
   "outputs": [],
   "source": [
    "n=4000\n",
    "rand_points = np.random.uniform(size=(2, n-2))\n",
    "edge_points = np.array([[0.0, 1.0],[0.0, 1.0]])\n",
    "points = np.concatenate((rand_points, edge_points), axis=1)"
   ]
  },
  {
   "cell_type": "code",
   "execution_count": 6,
   "metadata": {},
   "outputs": [],
   "source": [
    "connections = mt.get_connections(points, pval=2, radius=0.05)"
   ]
  },
  {
   "cell_type": "code",
   "execution_count": 12,
   "metadata": {},
   "outputs": [],
   "source": [
    "quick_data = []\n",
    "\n",
    "for i in range(1000):\n",
    "    n=1000\n",
    "    rand_points = np.random.uniform(size=(2, n-2))\n",
    "    edge_points = np.array([[0.0, 1.0],[0.0, 1.0]])\n",
    "    points = np.concatenate((rand_points, edge_points), axis=1)\n",
    "    connections = mt.get_connections(points, pval=2, radius=0.1)\n",
    "    no_points = mt.perc_thresh_n(connections)\n",
    "    quick_data.append(no_points)"
   ]
  },
  {
   "cell_type": "code",
   "execution_count": 13,
   "metadata": {},
   "outputs": [
    {
     "data": {
      "text/plain": [
       "[(0, 1000)]"
      ]
     },
     "execution_count": 13,
     "metadata": {},
     "output_type": "execute_result"
    },
    {
     "data": {
      "image/png": "[encoded data removed]",
      "text/plain": [
       "<Figure size 432x288 with 1 Axes>"
      ]
     },
     "metadata": {
      "needs_background": "light"
     },
     "output_type": "display_data"
    }
   ],
   "source": [
    "plt.hist(quick_data, cumulative=True, bins=100)\n",
    "plt.gca().set(xlim=(0, 1000), xlabel='Number of Points', ylabel='Culmulative Density', title='Connectionn Threshold')\n",
    "# plt.savefig('img/pval2r05.pdf')\n",
    "plt.gca().set(xlim=(0, np.max(quick_data)))"
   ]
  },
  {
   "cell_type": "code",
   "execution_count": 14,
   "metadata": {
    "scrolled": true
   },
   "outputs": [
    {
     "data": {
      "image/png": "[encoded data removed]",
      "text/plain": [
       "<Figure size 432x288 with 1 Axes>"
      ]
     },
     "metadata": {
      "needs_background": "light"
     },
     "output_type": "display_data"
    }
   ],
   "source": [
    "plt.hist(quick_data, bins=100);"
   ]
  },
  {
   "cell_type": "code",
   "execution_count": 16,
   "metadata": {
    "scrolled": true
   },
   "outputs": [
    {
     "data": {
      "text/plain": [
       "([999,\n",
       "  745,\n",
       "  688,\n",
       "  345,\n",
       "  441,\n",
       "  143,\n",
       "  230,\n",
       "  153,\n",
       "  20,\n",
       "  262,\n",
       "  746,\n",
       "  282,\n",
       "  117,\n",
       "  646,\n",
       "  593,\n",
       "  597,\n",
       "  725,\n",
       "  255,\n",
       "  240,\n",
       "  587,\n",
       "  68,\n",
       "  422,\n",
       "  514,\n",
       "  668,\n",
       "  459,\n",
       "  789,\n",
       "  596,\n",
       "  730,\n",
       "  331,\n",
       "  249,\n",
       "  954,\n",
       "  895,\n",
       "  548,\n",
       "  423,\n",
       "  294,\n",
       "  998],\n",
       " 0.058601644486951245)"
      ]
     },
     "execution_count": 16,
     "metadata": {},
     "output_type": "execute_result"
    }
   ],
   "source": [
    "n=1000\n",
    "rand_points = np.random.uniform(size=(2, n-2))\n",
    "edge_points = np.array([[0.0, 1.0],[0.0, 1.0]])\n",
    "points = np.concatenate((rand_points, edge_points), axis=1)\n",
    "\n",
    "mt.smallest_r(points, pval=2)"
   ]
  },
  {
   "cell_type": "code",
   "execution_count": 17,
   "metadata": {},
   "outputs": [],
   "source": [
    "n=1000\n",
    "trials = 100\n",
    "all_results = {}\n",
    "results = []\n",
    "for i in range(trials):\n",
    "    \n",
    "    rand_points = np.random.uniform(size=(2, n-2))\n",
    "    edge_points = np.array([[0.0, 1.0],[0.0, 1.0]])\n",
    "    points = np.concatenate((rand_points, edge_points), axis=1)\n",
    "\n",
    "    results.append(mt.smallest_r(points, pval=2)[1])\n",
    "    "
   ]
  },
  {
   "cell_type": "code",
   "execution_count": 18,
   "metadata": {},
   "outputs": [
    {
     "data": {
      "image/png": "[encoded data removed]",
      "text/plain": [
       "<Figure size 432x288 with 1 Axes>"
      ]
     },
     "metadata": {
      "needs_background": "light"
     },
     "output_type": "display_data"
    }
   ],
   "source": [
    "plt.hist(results, cumulative=True, bins=100);"
   ]
  },
  {
   "cell_type": "code",
   "execution_count": 19,
   "metadata": {},
   "outputs": [
    {
     "data": {
      "text/plain": [
       "1.9634950000000009"
      ]
     },
     "execution_count": 19,
     "metadata": {},
     "output_type": "execute_result"
    }
   ],
   "source": [
    "mt.r1_area2D(2)*(.05**2)*n"
   ]
  },
  {
   "cell_type": "code",
   "execution_count": 23,
   "metadata": {},
   "outputs": [
    {
     "data": {
      "text/plain": [
       "True"
      ]
     },
     "execution_count": 23,
     "metadata": {},
     "output_type": "execute_result"
    }
   ],
   "source": [
    "ns = [1000]\n",
    "ps = [2]\n",
    "\n",
    "mt.separate_perc_r(ns, ps, 'outputs/test_perc.txt', repeats=10)"
   ]
  },
  {
   "cell_type": "code",
   "execution_count": 22,
   "metadata": {},
   "outputs": [
    {
     "data": {
      "text/plain": [
       "<module 'minkowski_tools' from '/Users/matthewcotton/OneDrive - Imperial College London/UROP Summer 2020/DAGmetrics/minkowski_tools.py'>"
      ]
     },
     "execution_count": 22,
     "metadata": {},
     "output_type": "execute_result"
    }
   ],
   "source": [
    "import importlib\n",
    "importlib.reload(mt)"
   ]
  },
  {
   "cell_type": "code",
   "execution_count": 9,
   "metadata": {},
   "outputs": [],
   "source": [
    "data_dict = {}\n",
    "for pval in [0.8, 1, 1.2]:\n",
    "    data_dict[pval] = []\n",
    "    n = 1000\n",
    "    r = 0.1\n",
    "    for i in range(1000):\n",
    "        rand_points = np.random.uniform(size=(2, n-2))\n",
    "        edge_points = np.array([[0.0, 1.0],[0.0, 1.0]])\n",
    "        points = np.concatenate((rand_points, edge_points), axis=1)\n",
    "        connections = mt.get_connections(points, pval=pval, radius=r)\n",
    "        no_points = mt.perc_thresh_n(connections)\n",
    "        data_dict[pval].append(no_points)"
   ]
  },
  {
   "cell_type": "code",
   "execution_count": 12,
   "metadata": {},
   "outputs": [
    {
     "data": {
      "image/png": "[encoded data removed]",
      "text/plain": [
       "<Figure size 432x288 with 1 Axes>"
      ]
     },
     "metadata": {
      "needs_background": "light"
     },
     "output_type": "display_data"
    }
   ],
   "source": [
    "for pval in [0.8, 1, 1.2]:\n",
    "    plt.hist(data_dict[pval], cumulative=True, bins=100, label=pval, alpha=.3);\n",
    "    \n",
    "plt.legend()\n",
    "plt.gca().set(title='Number of Points for Connectedness', xlabel='Points', ylabel='Cumulative Frequency');\n",
    "# plt.savefig('img/PointsCumul.pdf')"
   ]
  },
  {
   "cell_type": "code",
   "execution_count": 16,
   "metadata": {
    "scrolled": true
   },
   "outputs": [
    {
     "name": "stdout",
     "output_type": "stream",
     "text": [
      "0,"
     ]
    },
    {
     "name": "stderr",
     "output_type": "stream",
     "text": [
      "/anaconda3/lib/python3.7/site-packages/ipykernel_launcher.py:12: RuntimeWarning: invalid value encountered in power\n",
      "  if sys.path[0] == '':\n"
     ]
    },
    {
     "name": "stdout",
     "output_type": "stream",
     "text": [
      "1,2,3,4,5,6,7,8,9,10,11,12,13,14,15,16,17,18,19,20,21,22,23,24,25,26,27,28,29,30,31,32,33,34,35,36,37,38,39,40,41,42,43,44,45,46,47,48,49,50,51,52,53,54,55,56,57,58,59,60,61,62,63,64,65,66,67,68,69,70,71,72,73,74,75,76,77,78,79,80,81,82,83,84,85,86,87,88,89,90,91,92,93,94,95,96,97,98,99,100,101,102,103,104,105,106,107,108,109,110,111,112,113,114,115,116,117,118,119,120,121,122,123,124,125,126,127,128,129,130,131,132,133,134,135,136,137,138,139,140,141,142,143,144,145,146,147,148,149,150,151,152,153,154,155,156,157,158,159,160,161,162,163,164,165,166,167,168,169,170,171,172,173,174,175,176,177,178,179,180,181,182,183,184,185,186,187,188,189,190,191,192,193,194,195,196,197,198,199,200,201,202,203,204,205,206,207,208,209,210,211,212,213,214,215,216,217,218,219,220,221,222,223,224,225,226,227,228,229,230,231,232,233,234,235,236,237,238,239,240,241,242,243,244,245,246,247,248,249,250,251,252,253,254,255,256,257,258,259,260,261,262,263,264,265,266,267,268,269,270,271,272,273,274,275,276,277,278,279,280,281,282,283,284,285,286,287,288,289,290,291,292,293,294,295,296,297,298,299,300,301,302,303,304,305,306,307,308,309,310,311,312,313,314,315,316,317,318,319,320,321,322,323,324,325,326,327,328,329,330,331,332,333,334,335,336,337,338,339,340,341,342,343,344,345,346,347,348,349,350,351,352,353,354,355,356,357,358,359,360,361,362,363,364,365,366,367,368,369,370,371,372,373,374,375,376,377,378,379,380,381,382,383,384,385,386,387,388,389,390,391,392,393,394,395,396,397,398,399,400,401,402,403,404,405,406,407,408,409,410,411,412,413,414,415,416,417,418,419,420,421,422,423,424,425,426,427,428,429,430,431,432,433,434,435,436,437,438,439,440,441,442,443,444,445,446,447,448,449,450,451,452,453,454,455,456,457,458,459,460,461,462,463,464,465,466,467,468,469,470,471,472,473,474,475,476,477,478,479,480,481,482,483,484,485,486,487,488,489,490,491,492,493,494,495,496,497,498,499,500,501,502,503,504,505,506,507,508,509,510,511,512,513,514,515,516,517,518,519,520,521,522,523,524,525,526,527,528,529,530,531,532,533,534,535,536,537,538,539,540,541,542,543,544,545,546,547,548,549,550,551,552,553,554,555,556,557,558,559,560,561,562,563,564,565,566,567,568,569,570,571,572,573,574,575,576,577,578,579,580,581,582,583,584,585,586,587,588,589,590,591,592,593,594,595,596,597,598,599,600,601,602,603,604,605,606,607,608,609,610,611,612,613,614,615,616,617,618,619,620,621,622,623,624,625,626,627,628,629,630,631,632,633,634,635,636,637,638,639,640,641,642,643,644,645,646,647,648,649,650,651,652,653,654,655,656,657,658,659,660,661,662,663,664,665,666,667,668,669,670,671,672,673,674,675,676,677,678,679,680,681,682,683,684,685,686,687,688,689,690,691,692,693,694,695,696,697,698,699,700,701,702,703,704,705,706,707,708,709,710,711,712,713,714,715,716,717,718,719,720,721,722,723,724,725,726,727,728,729,730,731,732,733,734,735,736,737,738,739,740,741,742,743,744,745,746,747,748,749,750,751,752,753,754,755,756,757,758,759,760,761,762,763,764,765,766,767,768,769,770,771,772,773,774,775,776,777,778,779,780,781,782,783,784,785,786,787,788,789,790,791,792,793,794,795,796,797,798,799,800,801,802,803,804,805,806,807,808,809,810,811,812,813,814,815,816,817,818,819,820,821,822,823,824,825,826,827,828,829,830,831,832,833,834,835,836,837,838,839,840,841,842,843,844,845,846,847,848,849,850,851,852,853,854,855,856,857,858,859,860,861,862,863,864,865,866,867,868,869,870,871,872,873,874,875,876,877,878,879,880,881,882,883,884,885,886,887,888,889,890,891,892,893,894,895,896,897,898,899,900,901,902,903,904,905,906,907,908,909,910,911,912,913,914,915,916,917,918,919,920,921,922,923,924,925,926,927,928,929,930,931,932,933,934,935,936,937,938,939,940,941,942,943,944,945,946,947,948,949,950,951,952,953,954,955,956,957,958,959,960,961,962,963,964,965,966,967,968,969,970,971,972,973,974,975,976,977,978,979,980,981,982,983,984,985,986,987,988,989,990,991,992,993,994,995,996,997,998,999,0,1,2,3,4,5,6,7,8,9,10,11,12,13,14,15,16,17,18,19,20,21,22,23,24,25,26,27,28,29,30,31,32,33,34,35,36,37,38,39,40,41,42,43,44,45,46,47,48,49,50,51,52,53,54,55,56,57,58,59,60,61,62,63,64,65,66,67,68,69,70,71,72,73,74,75,76,77,78,79,80,81,82,83,84,85,86,87,88,89,90,91,92,93,94,95,96,97,98,99,100,101,102,103,104,105,106,107,108,109,110,111,112,113,114,115,116,117,118,119,120,121,122,123,124,125,126,127,128,129,130,131,132,133,134,135,136,137,138,139,140,141,142,143,144,145,146,147,148,149,150,151,152,153,154,155,156,157,158,159,160,161,162,163,164,165,166,167,168,169,170,171,172,173,174,175,176,177,178,179,180,181,182,183,184,185,186,187,188,189,190,191,192,193,194,195,196,197,198,199,200,201,202,203,204,205,206,207,208,209,210,211,212,213,214,215,216,217,218,219,220,221,222,223,224,225,226,227,228,229,230,231,232,233,234,235,236,237,238,239,240,241,242,243,244,245,246,247,248,249,250,251,252,253,254,255,256,257,258,259,260,261,262,263,264,265,266,267,268,269,270,271,272,273,274,275,276,277,278,279,280,281,282,283,284,285,286,287,288,289,290,291,292,293,294,295,296,297,298,299,300,301,302,303,304,305,306,307,308,309,310,311,312,313,314,315,316,317,318,319,320,321,322,323,324,325,326,327,328,329,330,331,332,333,334,335,336,337,338,339,340,341,342,343,344,345,346,347,348,349,350,351,352,353,354,355,356,357,358,359,360,361,362,363,364,365,366,367,368,369,370,371,372,373,374,375,376,377,378,379,380,381,382,383,384,385,386,387,388,389,390,391,392,393,394,395,396,397,398,399,400,401,402,403,404,405,406,407,408,409,410,411,412,413,414,415,416,417,418,419,420,421,422,423,424,425,426,427,428,429,430,431,432,433,434,435,436,437,438,439,440,441,442,443,444,445,446,447,448,449,450,451,452,453,454,455,456,457,458,459,460,461,462,463,464,465,466,467,468,469,470,471,472,473,474,475,476,477,478,479,480,481,482,483,484,485,486,487,488,489,490,491,492,493,494,495,496,497,498,499,500,501,502,503,504,505,506,507,508,509,510,511,512,513,514,515,516,517,518,519,520,521,522,523,524,525,526,527,528,529,530,531,532,533,534,535,536,537,538,539,540,541,542,543,544,545,546,547,548,549,550,551,552,553,554,555,556,557,558,559,560,561,562,563,564,565,566,567,568,569,570,571,572,573,574,575,576,577,578,579,580,581,582,583,584,585,586,587,588,589,590,591,592,593,594,595,596,597,598,599,600,601,602,603,604,605,606,607,608,609,610,611,612,613,614,615,616,617,618,619,620,621,622,623,624,625,626,627,628,629,630,631,632,633,634,635,636,637,638,639,640,641,642,643,644,645,646,647,648,649,650,651,652,653,654,655,656,657,658,659,660,661,662,663,664,665,666,667,668,669,670,671,672,673,674,675,676,677,678,679,680,681,682,683,684,685,686,687,688,689,690,691,692,693,694,695,696,697,698,699,700,701,702,703,704,705,706,707,708,709,710,711,712,713,714,715,716,717,718,719,720,721,722,723,724,725,726,727,728,729,730,731,732,733,734,735,736,737,738,739,740,741,742,743,744,745,746,747,748,749,750,751,752,753,754,755,756,757,758,759,760,761,762,763,764,765,766,767,768,769,770,771,772,773,774,775,776,777,778,779,780,781,782,783,784,785,786,787,788,789,790,791,792,793,794,795,796,797,798,799,800,801,802,803,804,805,806,807,808,809,810,811,812,813,814,815,816,817,818,819,820,821,822,823,824,825,826,827,828,829,830,831,832,833,834,835,836,837,838,839,840,841,842,843,844,845,846,847,848,849,850,851,852,853,854,855,856,857,858,859,860,861,862,863,864,865,866,867,868,869,870,871,872,873,874,875,876,877,878,879,880,881,882,883,884,885,886,887,888,889,890,891,892,893,894,895,896,897,898,899,900,901,902,903,904,905,906,907,908,909,910,911,912,913,914,915,916,917,918,919,920,921,922,923,924,925,926,927,928,929,930,931,932,933,934,935,936,937,938,939,940,941,942,943,944,945,946,947,948,949,950,951,952,953,954,955,956,957,958,959,960,961,962,963,964,965,966,967,968,969,970,971,972,973,974,975,976,977,978,979,980,981,982,983,984,985,986,987,988,989,990,991,992,993,994,995,996,997,998,999,0,1,2,3,4,5,6,7,8,9,10,11,12,13,14,15,16,17,18,19,20,21,22,23,24,25,26,27,28,29,30,31,32,33,34,35,36,37,38,39,40,41,42,43,44,45,46,47,48,49,50,51,52,53,54,55,56,57,58,59,60,61,62,63,64,65,66,67,68,69,70,71,72,73,74,75,76,77,78,79,80,81,82,83,84,85,86,87,88,89,90,91,92,93,94,95,96,97,98,99,100,101,102,103,104,105,106,107,108,109,110,111,112,113,114,115,116,117,118,119,120,121,122,123,124,125,126,127,128,129,130,131,"
     ]
    },
    {
     "name": "stdout",
     "output_type": "stream",
     "text": [
      "132,133,134,135,136,137,138,139,140,141,142,143,144,145,146,147,148,149,150,151,152,153,154,155,156,157,158,159,160,161,162,163,164,165,166,167,168,169,170,171,172,173,174,175,176,177,178,179,180,181,182,183,184,185,186,187,188,189,190,191,192,193,194,195,196,197,198,199,200,201,202,203,204,205,206,207,208,209,210,211,212,213,214,215,216,217,218,219,220,221,222,223,224,225,226,227,228,229,230,231,232,233,234,235,236,237,238,239,240,241,242,243,244,245,246,247,248,249,250,251,252,253,254,255,256,257,258,259,260,261,262,263,264,265,266,267,268,269,270,271,272,273,274,275,276,277,278,279,280,281,282,283,284,285,286,287,288,289,290,291,292,293,294,295,296,297,298,299,300,301,302,303,304,305,306,307,308,309,310,311,312,313,314,315,316,317,318,319,320,321,322,323,324,325,326,327,328,329,330,331,332,333,334,335,336,337,338,339,340,341,342,343,344,345,346,347,348,349,350,351,352,353,354,355,356,357,358,359,360,361,362,363,364,365,366,367,368,369,370,371,372,373,374,375,376,377,378,379,380,381,382,383,384,385,386,387,388,389,390,391,392,393,394,395,396,397,398,399,400,401,402,403,404,405,406,407,408,409,410,411,412,413,414,415,416,417,418,419,420,421,422,423,424,425,426,427,428,429,430,431,432,433,434,435,436,437,438,439,440,441,442,443,444,445,446,447,448,449,450,451,452,453,454,455,456,457,458,459,460,461,462,463,464,465,466,467,468,469,470,471,472,473,474,475,476,477,478,479,480,481,482,483,484,485,486,487,488,489,490,491,492,493,494,495,496,497,498,499,500,501,502,503,504,505,506,507,508,509,510,511,512,513,514,515,516,517,518,519,520,521,522,523,524,525,526,527,528,529,530,531,532,533,534,535,536,537,538,539,540,541,542,543,544,545,546,547,548,549,550,551,552,553,554,555,556,557,558,559,560,561,562,563,564,565,566,567,568,569,570,571,572,573,574,575,576,577,578,579,580,581,582,583,584,585,586,587,588,589,590,591,592,593,594,595,596,597,598,599,600,601,602,603,604,605,606,607,608,609,610,611,612,613,614,615,616,617,618,619,620,621,622,623,624,625,626,627,628,629,630,631,632,633,634,635,636,637,638,639,640,641,642,643,644,645,646,647,648,649,650,651,652,653,654,655,656,657,658,659,660,661,662,663,664,665,666,667,668,669,670,671,672,673,674,675,676,677,678,679,680,681,682,683,684,685,686,687,688,689,690,691,692,693,694,695,696,697,698,699,700,701,702,703,704,705,706,707,708,709,710,711,712,713,714,715,716,717,718,719,720,721,722,723,724,725,726,727,728,729,730,731,732,733,734,735,736,737,738,739,740,741,742,743,744,745,746,747,748,749,750,751,752,753,754,755,756,757,758,759,760,761,762,763,764,765,766,767,768,769,770,771,772,773,774,775,776,777,778,779,780,781,782,783,784,785,786,787,788,789,790,791,792,793,794,795,796,797,798,799,800,801,802,803,804,805,806,807,808,809,810,811,812,813,814,815,816,817,818,819,820,821,822,823,824,825,826,827,828,829,830,831,832,833,834,835,836,837,838,839,840,841,842,843,844,845,846,847,848,849,850,851,852,853,854,855,856,857,858,859,860,861,862,863,864,865,866,867,868,869,870,871,872,873,874,875,876,877,878,879,880,881,882,883,884,885,886,887,888,889,890,891,892,893,894,895,896,897,898,899,900,901,902,903,904,905,906,907,908,909,910,911,912,913,914,915,916,917,918,919,920,921,922,923,924,925,926,927,928,929,930,931,932,933,934,935,936,937,938,939,940,941,942,943,944,945,946,947,948,949,950,951,952,953,954,955,956,957,958,959,960,961,962,963,964,965,966,967,968,969,970,971,972,973,974,975,976,977,978,979,980,981,982,983,984,985,986,987,988,989,990,991,992,993,994,995,996,997,998,999,"
     ]
    }
   ],
   "source": [
    "data_dict_r = {}\n",
    "for pval in [0.8, 1, 1.2]:\n",
    "    data_dict_r[pval] = []\n",
    "    n = 1000\n",
    "    r = 0.1\n",
    "    for i in range(1000):\n",
    "        print(i, end=',')\n",
    "        rand_points = np.random.uniform(size=(2, n-2))\n",
    "        edge_points = np.array([[0.0, 1.0],[0.0, 1.0]])\n",
    "        points = np.concatenate((rand_points, edge_points), axis=1)\n",
    "        r_min = smallest_r(points, pval)\n",
    "        data_dict_r[pval].append(r_min[1])"
   ]
  },
  {
   "cell_type": "code",
   "execution_count": 24,
   "metadata": {
    "scrolled": false
   },
   "outputs": [
    {
     "data": {
      "text/plain": [
       "[Text(0, 0.5, 'Cumulative Frequency'), Text(0.5, 0, 'r')]"
      ]
     },
     "execution_count": 24,
     "metadata": {},
     "output_type": "execute_result"
    },
    {
     "data": {
      "image/png": "[encoded data removed]",
      "text/plain": [
       "<Figure size 1008x360 with 2 Axes>"
      ]
     },
     "metadata": {
      "needs_background": "light"
     },
     "output_type": "display_data"
    }
   ],
   "source": [
    "fig, [ax1, ax2] = plt.subplots(ncols=2, figsize=(14, 5))\n",
    "\n",
    "for pval in [0.8, 1, 1.2]:\n",
    "    ax1.hist(data_dict_r[pval], cumulative=True, bins=100, label=pval, alpha=.3);\n",
    "\n",
    "ax1.legend()\n",
    "ax1.set(xlabel='r', ylabel='Cumulative Frequency')\n",
    "# plt.savefig('img/RadCumul.pdf')\n",
    "# suptitle='Minimum r for Connectedness'"
   ]
  },
  {
   "cell_type": "code",
   "execution_count": 150,
   "metadata": {},
   "outputs": [
    {
     "data": {
      "image/png": "[encoded data removed]",
      "text/plain": [
       "<Figure size 432x288 with 1 Axes>"
      ]
     },
     "metadata": {
      "needs_background": "light"
     },
     "output_type": "display_data"
    }
   ],
   "source": [
    "apprx_thresh = [0.065, 0.068, 0.08]\n",
    "ps = [1.2, 1, 0.8]\n",
    "\n",
    "for p, thresh, col in zip(ps, apprx_thresh, ['k', 'g', 'b']):\n",
    "    rs = np.arange(0.05, 0.14, 0.01)\n",
    "    ys = 1000*(mt.r1_area2D(p)*rs*rs)\n",
    "    plt.scatter(thresh, 1000*(mt.r1_area2D(p)*thresh*thresh), c=col)\n",
    "    plt.plot(rs, ys, c=col, alpha=0.6)\n",
    "    plt.axvline(x=thresh, c=col, ls='--', label=p, alpha=0.6)"
   ]
  },
  {
   "cell_type": "code",
   "execution_count": 88,
   "metadata": {},
   "outputs": [],
   "source": [
    "n=10\n",
    "rand_points = np.random.uniform(size=(2, n-2))\n",
    "edge_points = np.array([[0.0, 1.0],[0.0, 1.0]])\n",
    "points = np.concatenate((rand_points, edge_points), axis=1)"
   ]
  },
  {
   "cell_type": "code",
   "execution_count": 53,
   "metadata": {
    "scrolled": false
   },
   "outputs": [
    {
     "data": {
      "image/png": "[encoded data removed]",
      "text/plain": [
       "<Figure size 720x360 with 2 Axes>"
      ]
     },
     "metadata": {
      "needs_background": "light"
     },
     "output_type": "display_data"
    }
   ],
   "source": [
    "fig, (ax1, ax2) = plt.subplots(ncols=2, figsize=(10, 5))\n",
    "for pval, col in zip([0.8, 1, 1.2], ['k', 'g', 'b']):\n",
    "    ax1.hist(data_dict_r[pval], bins=np.arange(0.05, 0.14, 0.0005), label=pval, alpha=.3, color=col, cumulative=1, histtype='step', lw=5)\n",
    "    hist_out = ax2.hist(data_dict_r[pval], bins=50, color=col, alpha=0.3, label=pval)\n",
    "    ys = hist_out[0]\n",
    "    xs = (hist_out[1][1:]+hist_out[1][:-1])/2\n",
    "    pt = thresh_calc(xs, ys, sig_fract=.8, n_av=5)[0]\n",
    "\n",
    "    ax1.axvline(x=pt, ls='--', alpha=0.6, c=col)\n",
    "    ax2.axvline(x=pt, ls='--', alpha=0.6, c=col)\n",
    "    \n",
    "ax1.axhline(y=500, alpha=0.2, c='r')\n",
    "    \n",
    "#     popt, pcov = curve_fit(skewed, xs, ys)\n",
    "#     plt.plot(xs, skewed(xs, *popt))\n",
    "ax1.set(xlim=(0.05, 0.12), xlabel='r', ylabel='Cumulative Frequency')\n",
    "ax2.set(xlim=(0.05, 0.12), xlabel='r', ylabel='Frequency')\n",
    "ax1.legend(loc='lower right')\n",
    "ax2.legend()\n",
    "plt.savefig('img/r_perc.pdf')\n",
    "# plt.gca().set(title='Minimum r for Connectedness', xlabel='r', ylabel='Cumulative Frequency', xlim=(0.05, .1))"
   ]
  },
  {
   "cell_type": "code",
   "execution_count": 25,
   "metadata": {},
   "outputs": [
    {
     "name": "stderr",
     "output_type": "stream",
     "text": [
      "/anaconda3/lib/python3.7/site-packages/ipykernel_launcher.py:6: RuntimeWarning: divide by zero encountered in log\n",
      "  \n"
     ]
    },
    {
     "data": {
      "image/png": "[encoded data removed]",
      "text/plain": [
       "<Figure size 432x288 with 1 Axes>"
      ]
     },
     "metadata": {
      "needs_background": "light"
     },
     "output_type": "display_data"
    }
   ],
   "source": [
    "for pval in [0.8, 1, 1.2]:\n",
    "    hist_out = np.histogram(data_dict_r[pval], bins=50);\n",
    "    ys = hist_out[0]\n",
    "    xs = (hist_out[1][1:]+hist_out[1][:-1])/2\n",
    "#     popt, pcov = curve_fit(skewed, xs, ys)\n",
    "    plt.scatter(np.log(xs), np.log(ys))"
   ]
  },
  {
   "cell_type": "code",
   "execution_count": 26,
   "metadata": {
    "scrolled": true
   },
   "outputs": [
    {
     "ename": "NameError",
     "evalue": "name 'skewed' is not defined",
     "output_type": "error",
     "traceback": [
      "\u001b[0;31m---------------------------------------------------------------------------\u001b[0m",
      "\u001b[0;31mNameError\u001b[0m                                 Traceback (most recent call last)",
      "\u001b[0;32m<ipython-input-26-29089e925683>\u001b[0m in \u001b[0;36m<module>\u001b[0;34m\u001b[0m\n\u001b[1;32m      1\u001b[0m \u001b[0mys\u001b[0m \u001b[0;34m=\u001b[0m \u001b[0mhist_out\u001b[0m\u001b[0;34m[\u001b[0m\u001b[0;36m0\u001b[0m\u001b[0;34m]\u001b[0m\u001b[0;34m\u001b[0m\u001b[0;34m\u001b[0m\u001b[0m\n\u001b[1;32m      2\u001b[0m \u001b[0mxs\u001b[0m \u001b[0;34m=\u001b[0m \u001b[0;34m(\u001b[0m\u001b[0mhist_out\u001b[0m\u001b[0;34m[\u001b[0m\u001b[0;36m1\u001b[0m\u001b[0;34m]\u001b[0m\u001b[0;34m[\u001b[0m\u001b[0;36m1\u001b[0m\u001b[0;34m:\u001b[0m\u001b[0;34m]\u001b[0m\u001b[0;34m+\u001b[0m\u001b[0mhist_out\u001b[0m\u001b[0;34m[\u001b[0m\u001b[0;36m1\u001b[0m\u001b[0;34m]\u001b[0m\u001b[0;34m[\u001b[0m\u001b[0;34m:\u001b[0m\u001b[0;34m-\u001b[0m\u001b[0;36m1\u001b[0m\u001b[0;34m]\u001b[0m\u001b[0;34m)\u001b[0m\u001b[0;34m/\u001b[0m\u001b[0;36m2\u001b[0m\u001b[0;34m\u001b[0m\u001b[0;34m\u001b[0m\u001b[0m\n\u001b[0;32m----> 3\u001b[0;31m \u001b[0mpopt\u001b[0m\u001b[0;34m,\u001b[0m \u001b[0mpcov\u001b[0m \u001b[0;34m=\u001b[0m \u001b[0mcurve_fit\u001b[0m\u001b[0;34m(\u001b[0m\u001b[0mskewed\u001b[0m\u001b[0;34m,\u001b[0m \u001b[0mxs\u001b[0m\u001b[0;34m,\u001b[0m \u001b[0mys\u001b[0m\u001b[0;34m)\u001b[0m\u001b[0;34m\u001b[0m\u001b[0;34m\u001b[0m\u001b[0m\n\u001b[0m\u001b[1;32m      4\u001b[0m \u001b[0mplt\u001b[0m\u001b[0;34m.\u001b[0m\u001b[0mplot\u001b[0m\u001b[0;34m(\u001b[0m\u001b[0mxs\u001b[0m\u001b[0;34m,\u001b[0m \u001b[0mskewed\u001b[0m\u001b[0;34m(\u001b[0m\u001b[0mxs\u001b[0m\u001b[0;34m,\u001b[0m \u001b[0;34m*\u001b[0m\u001b[0mpopt\u001b[0m\u001b[0;34m)\u001b[0m\u001b[0;34m)\u001b[0m\u001b[0;34m\u001b[0m\u001b[0;34m\u001b[0m\u001b[0m\n",
      "\u001b[0;31mNameError\u001b[0m: name 'skewed' is not defined"
     ]
    }
   ],
   "source": [
    "ys = hist_out[0]\n",
    "xs = (hist_out[1][1:]+hist_out[1][:-1])/2\n",
    "popt, pcov = curve_fit(skewed, xs, ys)\n",
    "plt.plot(xs, skewed(xs, *popt))"
   ]
  },
  {
   "cell_type": "code",
   "execution_count": 54,
   "metadata": {
    "collapsed": true
   },
   "outputs": [
    {
     "ename": "RuntimeError",
     "evalue": "Optimal parameters not found: Number of calls to function has reached maxfev = 1000.",
     "output_type": "error",
     "traceback": [
      "\u001b[0;31m---------------------------------------------------------------------------\u001b[0m",
      "\u001b[0;31mRuntimeError\u001b[0m                              Traceback (most recent call last)",
      "\u001b[0;32m<ipython-input-54-928b41aa144d>\u001b[0m in \u001b[0;36m<module>\u001b[0;34m\u001b[0m\n\u001b[1;32m      3\u001b[0m     \u001b[0;32mreturn\u001b[0m \u001b[0md\u001b[0m\u001b[0;34m*\u001b[0m\u001b[0msp\u001b[0m\u001b[0;34m.\u001b[0m\u001b[0mstats\u001b[0m\u001b[0;34m.\u001b[0m\u001b[0mskewnorm\u001b[0m\u001b[0;34m.\u001b[0m\u001b[0mpdf\u001b[0m\u001b[0;34m(\u001b[0m\u001b[0ma\u001b[0m\u001b[0;34m*\u001b[0m\u001b[0mx\u001b[0m\u001b[0;34m-\u001b[0m\u001b[0mb\u001b[0m\u001b[0;34m,\u001b[0m \u001b[0mc\u001b[0m\u001b[0;34m)\u001b[0m\u001b[0;34m\u001b[0m\u001b[0;34m\u001b[0m\u001b[0m\n\u001b[1;32m      4\u001b[0m \u001b[0;34m\u001b[0m\u001b[0m\n\u001b[0;32m----> 5\u001b[0;31m \u001b[0mpopt\u001b[0m\u001b[0;34m,\u001b[0m \u001b[0mpcov\u001b[0m \u001b[0;34m=\u001b[0m \u001b[0mcurve_fit\u001b[0m\u001b[0;34m(\u001b[0m\u001b[0mskewed\u001b[0m\u001b[0;34m,\u001b[0m \u001b[0mxs\u001b[0m\u001b[0;34m,\u001b[0m \u001b[0mys\u001b[0m\u001b[0;34m)\u001b[0m\u001b[0;34m\u001b[0m\u001b[0;34m\u001b[0m\u001b[0m\n\u001b[0m\u001b[1;32m      6\u001b[0m \u001b[0;34m\u001b[0m\u001b[0m\n\u001b[1;32m      7\u001b[0m \u001b[0mhist_out\u001b[0m \u001b[0;34m=\u001b[0m \u001b[0mplt\u001b[0m\u001b[0;34m.\u001b[0m\u001b[0mhist\u001b[0m\u001b[0;34m(\u001b[0m\u001b[0mdata_dict_r\u001b[0m\u001b[0;34m[\u001b[0m\u001b[0mpval\u001b[0m\u001b[0;34m]\u001b[0m\u001b[0;34m,\u001b[0m \u001b[0mbins\u001b[0m\u001b[0;34m=\u001b[0m\u001b[0;36m50\u001b[0m\u001b[0;34m,\u001b[0m \u001b[0mlabel\u001b[0m\u001b[0;34m=\u001b[0m\u001b[0mpval\u001b[0m\u001b[0;34m,\u001b[0m \u001b[0malpha\u001b[0m\u001b[0;34m=\u001b[0m\u001b[0;36m.3\u001b[0m\u001b[0;34m)\u001b[0m\u001b[0;34m\u001b[0m\u001b[0;34m\u001b[0m\u001b[0m\n",
      "\u001b[0;32m/anaconda3/lib/python3.7/site-packages/scipy/optimize/minpack.py\u001b[0m in \u001b[0;36mcurve_fit\u001b[0;34m(f, xdata, ydata, p0, sigma, absolute_sigma, check_finite, bounds, method, jac, **kwargs)\u001b[0m\n\u001b[1;32m    746\u001b[0m         \u001b[0mcost\u001b[0m \u001b[0;34m=\u001b[0m \u001b[0mnp\u001b[0m\u001b[0;34m.\u001b[0m\u001b[0msum\u001b[0m\u001b[0;34m(\u001b[0m\u001b[0minfodict\u001b[0m\u001b[0;34m[\u001b[0m\u001b[0;34m'fvec'\u001b[0m\u001b[0;34m]\u001b[0m \u001b[0;34m**\u001b[0m \u001b[0;36m2\u001b[0m\u001b[0;34m)\u001b[0m\u001b[0;34m\u001b[0m\u001b[0;34m\u001b[0m\u001b[0m\n\u001b[1;32m    747\u001b[0m         \u001b[0;32mif\u001b[0m \u001b[0mier\u001b[0m \u001b[0;32mnot\u001b[0m \u001b[0;32min\u001b[0m \u001b[0;34m[\u001b[0m\u001b[0;36m1\u001b[0m\u001b[0;34m,\u001b[0m \u001b[0;36m2\u001b[0m\u001b[0;34m,\u001b[0m \u001b[0;36m3\u001b[0m\u001b[0;34m,\u001b[0m \u001b[0;36m4\u001b[0m\u001b[0;34m]\u001b[0m\u001b[0;34m:\u001b[0m\u001b[0;34m\u001b[0m\u001b[0;34m\u001b[0m\u001b[0m\n\u001b[0;32m--> 748\u001b[0;31m             \u001b[0;32mraise\u001b[0m \u001b[0mRuntimeError\u001b[0m\u001b[0;34m(\u001b[0m\u001b[0;34m\"Optimal parameters not found: \"\u001b[0m \u001b[0;34m+\u001b[0m \u001b[0merrmsg\u001b[0m\u001b[0;34m)\u001b[0m\u001b[0;34m\u001b[0m\u001b[0;34m\u001b[0m\u001b[0m\n\u001b[0m\u001b[1;32m    749\u001b[0m     \u001b[0;32melse\u001b[0m\u001b[0;34m:\u001b[0m\u001b[0;34m\u001b[0m\u001b[0;34m\u001b[0m\u001b[0m\n\u001b[1;32m    750\u001b[0m         \u001b[0;31m# Rename maxfev (leastsq) to max_nfev (least_squares), if specified.\u001b[0m\u001b[0;34m\u001b[0m\u001b[0;34m\u001b[0m\u001b[0;34m\u001b[0m\u001b[0m\n",
      "\u001b[0;31mRuntimeError\u001b[0m: Optimal parameters not found: Number of calls to function has reached maxfev = 1000."
     ]
    }
   ],
   "source": [
    "def skewed(x, a, b, c, d):\n",
    "#     (100*(xs-.06), 4, 50)\n",
    "    return d*sp.stats.skewnorm.pdf(a*x-b, c)\n",
    "    \n",
    "popt, pcov = curve_fit(skewed, xs, ys)\n",
    "\n",
    "hist_out = plt.hist(data_dict_r[pval], bins=50, label=pval, alpha=.3)\n",
    "plt.plot(xs, skewed(xs, *popt))\n",
    "# plt.plot(xs, skewed(xs, 100, 6, 4, 50))\n",
    "# plt.plot(xs, ys, label='Fit')\n",
    "plt.legend()\n",
    "popt"
   ]
  },
  {
   "cell_type": "code",
   "execution_count": 37,
   "metadata": {},
   "outputs": [],
   "source": [
    "def moving_average(a, n=3) :\n",
    "    ret = np.cumsum(np.array(a))\n",
    "    ret[n:] = ret[n:] - ret[:-n]\n",
    "    return ret[n - 1:] / n\n",
    "\n",
    "def thresh_calc(data, sig_fract=.8, n_av=5, bins=50):\n",
    "    \n",
    "    hist_data = np.histogram(data, bins=bins)\n",
    "    \n",
    "    xs, ys = (hist_data[1]+hist_data[1])/2, hist_data[0]\n",
    "    smoothxs = (moving_average(xs, n=n_av))\n",
    "    smoothys = (moving_average(ys, n=n_av))\n",
    "    inds = np.where(smoothys > max(smoothys)*sig_fract)\n",
    "\n",
    "    vals, err = np.polyfit(smoothxs[inds], smoothys[inds], 2, cov=True)\n",
    "    \n",
    "    stat_point = -.5*vals[1]/vals[0]\n",
    "    fract_err = np.sqrt(err[0, 0]/(vals[0]**2) + err[1, 1]/(vals[1]**2))\n",
    "\n",
    "    return stat_point, fract_err*stat_point"
   ]
  },
  {
   "cell_type": "code",
   "execution_count": 147,
   "metadata": {},
   "outputs": [
    {
     "data": {
      "image/png": "[encoded data removed]",
      "text/plain": [
       "<Figure size 432x288 with 1 Axes>"
      ]
     },
     "metadata": {
      "needs_background": "light"
     },
     "output_type": "display_data"
    }
   ],
   "source": [
    "apprx_thresh = [450, 500, 600]\n",
    "ps = [1.2, 1, 0.8]\n",
    "\n",
    "for p, thresh, col in zip(ps, apprx_thresh, ['k', 'g', 'b']):\n",
    "    xs = np.arange(1000)\n",
    "    ys = xs*(mt.r1_area2D(p)*.1*.1)\n",
    "    plt.scatter(thresh, thresh*(mt.r1_area2D(p)*.1*.1), c=col)\n",
    "    plt.plot(xs, ys, c=col, alpha=0.6)\n",
    "    plt.axvline(x=thresh, c=col, ls='--', label=p, alpha=0.6)"
   ]
  },
  {
   "cell_type": "code",
   "execution_count": 40,
   "metadata": {},
   "outputs": [],
   "source": [
    "def separate_perc_n(p, r, n_max=None):\n",
    "\n",
    "    if n_max==None:\n",
    "        n_max=int(4/(mt.r1_area2D(p)*r*r))\n",
    "        print(n_max)\n",
    "\n",
    "    rand_points = np.random.uniform(size=(2, n_max-2))\n",
    "    edge_points = np.array([[0.0, 1.0],[0.0, 1.0]])\n",
    "    points = np.concatenate((rand_points, edge_points), axis=1)\n",
    "\n",
    "    connections = mt.get_connections(points, radius=r, pval=p)\n",
    "\n",
    "    return mt.perc_thresh_n(connections)\n",
    "\n",
    "def ensemble_perc_n(fileName, ps, rs, repeats=1, verbose=True):\n",
    "\n",
    "    for p, r in zip(ps, rs):\n",
    "        \n",
    "        if verbose:\n",
    "            print(f'p:{p}, r:{r}')\n",
    "            \n",
    "        for i in range(repeats):\n",
    "            if verbose:\n",
    "                print(i, end=' ')\n",
    "                \n",
    "            thresh = separate_perc_n(p, r)\n",
    "            file1 = open(\"{}\".format(fileName),\"a\") \n",
    "            file1.writelines(f'{p} - {r} - {thresh}\\n')\n",
    "            file1.close()\n",
    "\n",
    "        if verbose:\n",
    "            print()\n",
    "            \n",
    "    return fileName"
   ]
  },
  {
   "cell_type": "code",
   "execution_count": 41,
   "metadata": {
    "scrolled": true
   },
   "outputs": [
    {
     "name": "stdout",
     "output_type": "stream",
     "text": [
      "p:0.8, r:0.2\n",
      "0 258\n",
      "1 258\n",
      "2 258\n",
      "3 258\n",
      "4 258\n",
      "5 258\n",
      "6 258\n",
      "7 258\n",
      "8 258\n",
      "9 258\n",
      "\n",
      "p:1.2, r:0.1\n",
      "0 680\n",
      "1 680\n",
      "2 680\n",
      "3 680\n",
      "4 680\n",
      "5 680\n",
      "6 680\n",
      "7 680\n",
      "8 680\n",
      "9 680\n",
      "\n",
      "p:2, r:0.05\n",
      "0 2037\n",
      "1 2037\n",
      "2 2037\n",
      "3 2037\n",
      "4 2037\n",
      "5 2037\n",
      "6 2037\n",
      "7 2037\n",
      "8 2037\n",
      "9 2037\n",
      "\n"
     ]
    },
    {
     "data": {
      "text/plain": [
       "'new_test.txt'"
      ]
     },
     "execution_count": 41,
     "metadata": {},
     "output_type": "execute_result"
    }
   ],
   "source": [
    "ensemble_perc_n('new_test.txt', [.8, 1.2, 2], [0.2, 0.1, 0.05], repeats=10)"
   ]
  },
  {
   "cell_type": "code",
   "execution_count": 42,
   "metadata": {
    "scrolled": true
   },
   "outputs": [
    {
     "name": "stderr",
     "output_type": "stream",
     "text": [
      "/anaconda3/lib/python3.7/site-packages/ipykernel_launcher.py:1: ParserWarning: Falling back to the 'python' engine because the 'c' engine does not support regex separators (separators > 1 char and different from '\\s+' are interpreted as regex); you can avoid this warning by specifying engine='python'.\n",
      "  \"\"\"Entry point for launching an IPython kernel.\n"
     ]
    },
    {
     "data": {
      "text/html": [
       "<div>\n",
       "<style scoped>\n",
       "    .dataframe tbody tr th:only-of-type {\n",
       "        vertical-align: middle;\n",
       "    }\n",
       "\n",
       "    .dataframe tbody tr th {\n",
       "        vertical-align: top;\n",
       "    }\n",
       "\n",
       "    .dataframe thead th {\n",
       "        text-align: right;\n",
       "    }\n",
       "</style>\n",
       "<table border=\"1\" class=\"dataframe\">\n",
       "  <thead>\n",
       "    <tr style=\"text-align: right;\">\n",
       "      <th></th>\n",
       "      <th>0</th>\n",
       "      <th>1</th>\n",
       "      <th>2</th>\n",
       "    </tr>\n",
       "  </thead>\n",
       "  <tbody>\n",
       "    <tr>\n",
       "      <th>0</th>\n",
       "      <td>0.8</td>\n",
       "      <td>0.20</td>\n",
       "      <td>104</td>\n",
       "    </tr>\n",
       "    <tr>\n",
       "      <th>1</th>\n",
       "      <td>0.8</td>\n",
       "      <td>0.20</td>\n",
       "      <td>155</td>\n",
       "    </tr>\n",
       "    <tr>\n",
       "      <th>2</th>\n",
       "      <td>0.8</td>\n",
       "      <td>0.20</td>\n",
       "      <td>216</td>\n",
       "    </tr>\n",
       "    <tr>\n",
       "      <th>3</th>\n",
       "      <td>0.8</td>\n",
       "      <td>0.20</td>\n",
       "      <td>158</td>\n",
       "    </tr>\n",
       "    <tr>\n",
       "      <th>4</th>\n",
       "      <td>0.8</td>\n",
       "      <td>0.20</td>\n",
       "      <td>134</td>\n",
       "    </tr>\n",
       "    <tr>\n",
       "      <th>5</th>\n",
       "      <td>0.8</td>\n",
       "      <td>0.20</td>\n",
       "      <td>110</td>\n",
       "    </tr>\n",
       "    <tr>\n",
       "      <th>6</th>\n",
       "      <td>0.8</td>\n",
       "      <td>0.20</td>\n",
       "      <td>156</td>\n",
       "    </tr>\n",
       "    <tr>\n",
       "      <th>7</th>\n",
       "      <td>0.8</td>\n",
       "      <td>0.20</td>\n",
       "      <td>255</td>\n",
       "    </tr>\n",
       "    <tr>\n",
       "      <th>8</th>\n",
       "      <td>0.8</td>\n",
       "      <td>0.20</td>\n",
       "      <td>194</td>\n",
       "    </tr>\n",
       "    <tr>\n",
       "      <th>9</th>\n",
       "      <td>0.8</td>\n",
       "      <td>0.20</td>\n",
       "      <td>104</td>\n",
       "    </tr>\n",
       "    <tr>\n",
       "      <th>10</th>\n",
       "      <td>1.2</td>\n",
       "      <td>0.10</td>\n",
       "      <td>540</td>\n",
       "    </tr>\n",
       "    <tr>\n",
       "      <th>11</th>\n",
       "      <td>1.2</td>\n",
       "      <td>0.10</td>\n",
       "      <td>680</td>\n",
       "    </tr>\n",
       "    <tr>\n",
       "      <th>12</th>\n",
       "      <td>1.2</td>\n",
       "      <td>0.10</td>\n",
       "      <td>428</td>\n",
       "    </tr>\n",
       "    <tr>\n",
       "      <th>13</th>\n",
       "      <td>1.2</td>\n",
       "      <td>0.10</td>\n",
       "      <td>277</td>\n",
       "    </tr>\n",
       "    <tr>\n",
       "      <th>14</th>\n",
       "      <td>1.2</td>\n",
       "      <td>0.10</td>\n",
       "      <td>493</td>\n",
       "    </tr>\n",
       "    <tr>\n",
       "      <th>15</th>\n",
       "      <td>1.2</td>\n",
       "      <td>0.10</td>\n",
       "      <td>360</td>\n",
       "    </tr>\n",
       "    <tr>\n",
       "      <th>16</th>\n",
       "      <td>1.2</td>\n",
       "      <td>0.10</td>\n",
       "      <td>425</td>\n",
       "    </tr>\n",
       "    <tr>\n",
       "      <th>17</th>\n",
       "      <td>1.2</td>\n",
       "      <td>0.10</td>\n",
       "      <td>459</td>\n",
       "    </tr>\n",
       "    <tr>\n",
       "      <th>18</th>\n",
       "      <td>1.2</td>\n",
       "      <td>0.10</td>\n",
       "      <td>261</td>\n",
       "    </tr>\n",
       "    <tr>\n",
       "      <th>19</th>\n",
       "      <td>1.2</td>\n",
       "      <td>0.10</td>\n",
       "      <td>461</td>\n",
       "    </tr>\n",
       "    <tr>\n",
       "      <th>20</th>\n",
       "      <td>2.0</td>\n",
       "      <td>0.05</td>\n",
       "      <td>991</td>\n",
       "    </tr>\n",
       "    <tr>\n",
       "      <th>21</th>\n",
       "      <td>2.0</td>\n",
       "      <td>0.05</td>\n",
       "      <td>1320</td>\n",
       "    </tr>\n",
       "    <tr>\n",
       "      <th>22</th>\n",
       "      <td>2.0</td>\n",
       "      <td>0.05</td>\n",
       "      <td>1394</td>\n",
       "    </tr>\n",
       "    <tr>\n",
       "      <th>23</th>\n",
       "      <td>2.0</td>\n",
       "      <td>0.05</td>\n",
       "      <td>1718</td>\n",
       "    </tr>\n",
       "    <tr>\n",
       "      <th>24</th>\n",
       "      <td>2.0</td>\n",
       "      <td>0.05</td>\n",
       "      <td>1162</td>\n",
       "    </tr>\n",
       "    <tr>\n",
       "      <th>25</th>\n",
       "      <td>2.0</td>\n",
       "      <td>0.05</td>\n",
       "      <td>1229</td>\n",
       "    </tr>\n",
       "    <tr>\n",
       "      <th>26</th>\n",
       "      <td>2.0</td>\n",
       "      <td>0.05</td>\n",
       "      <td>1076</td>\n",
       "    </tr>\n",
       "    <tr>\n",
       "      <th>27</th>\n",
       "      <td>2.0</td>\n",
       "      <td>0.05</td>\n",
       "      <td>1385</td>\n",
       "    </tr>\n",
       "    <tr>\n",
       "      <th>28</th>\n",
       "      <td>2.0</td>\n",
       "      <td>0.05</td>\n",
       "      <td>1258</td>\n",
       "    </tr>\n",
       "    <tr>\n",
       "      <th>29</th>\n",
       "      <td>2.0</td>\n",
       "      <td>0.05</td>\n",
       "      <td>1100</td>\n",
       "    </tr>\n",
       "  </tbody>\n",
       "</table>\n",
       "</div>"
      ],
      "text/plain": [
       "      0     1     2\n",
       "0   0.8  0.20   104\n",
       "1   0.8  0.20   155\n",
       "2   0.8  0.20   216\n",
       "3   0.8  0.20   158\n",
       "4   0.8  0.20   134\n",
       "5   0.8  0.20   110\n",
       "6   0.8  0.20   156\n",
       "7   0.8  0.20   255\n",
       "8   0.8  0.20   194\n",
       "9   0.8  0.20   104\n",
       "10  1.2  0.10   540\n",
       "11  1.2  0.10   680\n",
       "12  1.2  0.10   428\n",
       "13  1.2  0.10   277\n",
       "14  1.2  0.10   493\n",
       "15  1.2  0.10   360\n",
       "16  1.2  0.10   425\n",
       "17  1.2  0.10   459\n",
       "18  1.2  0.10   261\n",
       "19  1.2  0.10   461\n",
       "20  2.0  0.05   991\n",
       "21  2.0  0.05  1320\n",
       "22  2.0  0.05  1394\n",
       "23  2.0  0.05  1718\n",
       "24  2.0  0.05  1162\n",
       "25  2.0  0.05  1229\n",
       "26  2.0  0.05  1076\n",
       "27  2.0  0.05  1385\n",
       "28  2.0  0.05  1258\n",
       "29  2.0  0.05  1100"
      ]
     },
     "execution_count": 42,
     "metadata": {},
     "output_type": "execute_result"
    }
   ],
   "source": [
    "pd.read_csv('new_test.txt', header=None, delimiter=\" - \")"
   ]
  },
  {
   "cell_type": "code",
   "execution_count": 68,
   "metadata": {},
   "outputs": [
    {
     "data": {
      "text/plain": [
       "4142.223234765676"
      ]
     },
     "execution_count": 68,
     "metadata": {},
     "output_type": "execute_result"
    }
   ],
   "source": [
    "p=.8\n",
    "r=0.05\n",
    "\n",
    "4/(mt.r1_area2D(p)*r*r)"
   ]
  },
  {
   "cell_type": "code",
   "execution_count": 3,
   "metadata": {
    "scrolled": true
   },
   "outputs": [
    {
     "name": "stderr",
     "output_type": "stream",
     "text": [
      "/anaconda3/lib/python3.7/site-packages/ipykernel_launcher.py:1: ParserWarning: Falling back to the 'python' engine because the 'c' engine does not support regex separators (separators > 1 char and different from '\\s+' are interpreted as regex); you can avoid this warning by specifying engine='python'.\n",
      "  \"\"\"Entry point for launching an IPython kernel.\n"
     ]
    },
    {
     "data": {
      "text/html": [
       "<div>\n",
       "<style scoped>\n",
       "    .dataframe tbody tr th:only-of-type {\n",
       "        vertical-align: middle;\n",
       "    }\n",
       "\n",
       "    .dataframe tbody tr th {\n",
       "        vertical-align: top;\n",
       "    }\n",
       "\n",
       "    .dataframe thead th {\n",
       "        text-align: right;\n",
       "    }\n",
       "</style>\n",
       "<table border=\"1\" class=\"dataframe\">\n",
       "  <thead>\n",
       "    <tr style=\"text-align: right;\">\n",
       "      <th></th>\n",
       "      <th>p</th>\n",
       "      <th>r</th>\n",
       "      <th>n</th>\n",
       "    </tr>\n",
       "  </thead>\n",
       "  <tbody>\n",
       "    <tr>\n",
       "      <th>44795</th>\n",
       "      <td>3.0</td>\n",
       "      <td>0.2</td>\n",
       "      <td>84</td>\n",
       "    </tr>\n",
       "    <tr>\n",
       "      <th>44796</th>\n",
       "      <td>3.0</td>\n",
       "      <td>0.2</td>\n",
       "      <td>84</td>\n",
       "    </tr>\n",
       "    <tr>\n",
       "      <th>44797</th>\n",
       "      <td>3.0</td>\n",
       "      <td>0.2</td>\n",
       "      <td>50</td>\n",
       "    </tr>\n",
       "    <tr>\n",
       "      <th>44798</th>\n",
       "      <td>3.0</td>\n",
       "      <td>0.2</td>\n",
       "      <td>47</td>\n",
       "    </tr>\n",
       "    <tr>\n",
       "      <th>44799</th>\n",
       "      <td>3.0</td>\n",
       "      <td>0.2</td>\n",
       "      <td>70</td>\n",
       "    </tr>\n",
       "  </tbody>\n",
       "</table>\n",
       "</div>"
      ],
      "text/plain": [
       "         p    r   n\n",
       "44795  3.0  0.2  84\n",
       "44796  3.0  0.2  84\n",
       "44797  3.0  0.2  50\n",
       "44798  3.0  0.2  47\n",
       "44799  3.0  0.2  70"
      ]
     },
     "execution_count": 3,
     "metadata": {},
     "output_type": "execute_result"
    }
   ],
   "source": [
    "pn1 = pd.read_csv('outputs/perc_n.txt', names=['p', 'r', 'n'], delimiter=\" - \")\n",
    "pn1.tail()"
   ]
  },
  {
   "cell_type": "code",
   "execution_count": 4,
   "metadata": {},
   "outputs": [],
   "source": [
    "pn1['edges'] = pn1['n']*pn1['r']*pn1['r']*mt.kernel_area2D(pn1['p'])"
   ]
  },
  {
   "cell_type": "code",
   "execution_count": 5,
   "metadata": {},
   "outputs": [
    {
     "data": {
      "image/png": "[encoded data removed]",
      "text/plain": [
       "<Figure size 432x288 with 1 Axes>"
      ]
     },
     "metadata": {
      "needs_background": "light"
     },
     "output_type": "display_data"
    }
   ],
   "source": [
    "plt.hist(pn1[pn1['edges'] < 2.95]['edges'], bins=50, cumulative=1);\n",
    "# plt.hist(pn1['edges'], bins=50, cumulative=1);\n",
    "plt.gca().set(xlabel='Average Number Edges from Node', ylabel='Cumulative Frequency', );"
   ]
  },
  {
   "cell_type": "code",
   "execution_count": 6,
   "metadata": {},
   "outputs": [
    {
     "data": {
      "text/plain": [
       "[Text(0, 0.5, 'Frequency'), Text(0.5, 0, 'Average Number Edges from Node')]"
      ]
     },
     "execution_count": 6,
     "metadata": {},
     "output_type": "execute_result"
    },
    {
     "data": {
      "image/png": "[encoded data removed]",
      "text/plain": [
       "<Figure size 432x288 with 1 Axes>"
      ]
     },
     "metadata": {
      "needs_background": "light"
     },
     "output_type": "display_data"
    }
   ],
   "source": [
    "plt.hist(pn1[pn1['edges'] < 2.95]['edges'], bins=50, cumulative=0)\n",
    "plt.gca().set(xlabel='Average Number Edges from Node', ylabel='Frequency', )"
   ]
  },
  {
   "cell_type": "code",
   "execution_count": 9,
   "metadata": {},
   "outputs": [
    {
     "data": {
      "image/png": "[encoded data removed]",
      "text/plain": [
       "<Figure size 432x288 with 1 Axes>"
      ]
     },
     "metadata": {
      "needs_background": "light"
     },
     "output_type": "display_data"
    }
   ],
   "source": [
    "for bins in [50, 75, 100]:\n",
    "    plt.plot(np.arange(0.5, 0.95, 0.01), [thresh_calc(pn1[pn1['edges'] < 2.95]['edges'], sig_fract=elem, bins=bins)[0] for elem in np.arange(0.5, 0.95, 0.01)], label=f'{bins} bins')\n",
    "plt.legend()\n",
    "plt.gca().set(xlabel='Fraction for bars to be considered', ylabel='Percolation Threshold', );"
   ]
  },
  {
   "cell_type": "code",
   "execution_count": 22,
   "metadata": {},
   "outputs": [],
   "source": [
    "# #input file\n",
    "# fin = open('outputs/perc_r5000clean.txt', \"rt\")\n",
    "# #output file to write the result to\n",
    "# fout = open(\"outputs/perc_r5000clean2.txt\", \"wt\")\n",
    "# #for each line in the input file\n",
    "# for line in fin:\n",
    "# \t#read replace the string and write to output file\n",
    "# \tfout.write(line.replace('-[[', '- [['))\n",
    "# #close input and output files\n",
    "# fin.close()\n",
    "# fout.close()"
   ]
  },
  {
   "cell_type": "code",
   "execution_count": 35,
   "metadata": {},
   "outputs": [
    {
     "name": "stderr",
     "output_type": "stream",
     "text": [
      "/anaconda3/lib/python3.7/site-packages/ipykernel_launcher.py:1: ParserWarning: Falling back to the 'python' engine because the 'c' engine does not support regex separators (separators > 1 char and different from '\\s+' are interpreted as regex); you can avoid this warning by specifying engine='python'.\n",
      "  \"\"\"Entry point for launching an IPython kernel.\n"
     ]
    }
   ],
   "source": [
    "pr1 = pd.read_csv('outputs/perc_r5000clean2.txt', names=['p', 'n', 'r', 'path'], delimiter=\" - \")\n",
    "pr1['edges'] = pr1['n']*pr1['r']*pr1['r']*mt.kernel_area2D(pr1['p'])"
   ]
  },
  {
   "cell_type": "code",
   "execution_count": 41,
   "metadata": {
    "scrolled": false
   },
   "outputs": [
    {
     "data": {
      "image/png": "[encoded data removed]",
      "text/plain": [
       "<Figure size 504x504 with 1 Axes>"
      ]
     },
     "metadata": {
      "needs_background": "light"
     },
     "output_type": "display_data"
    }
   ],
   "source": [
    "fig, ax = plt.subplots(figsize=(7, 7))\n",
    "# axins = ax.inset_axes([5, 8, 150, 250])\n",
    "axins = ax.inset_axes([0.5, 0.57, 0.5, 0.43])\n",
    "\n",
    "hist_data = axins.hist(pr1['edges'], bins=100, label='Raw Data')\n",
    "\n",
    "axins.legend(loc='upper right')\n",
    "\n",
    "\n",
    "n_av = 5\n",
    "sig_fract = .7\n",
    "plot_fract = 0.1\n",
    "\n",
    "xs, ys = (hist_data[1]+hist_data[1])/2, hist_data[0]\n",
    "smoothxs = (moving_average(xs, n=n_av))\n",
    "smoothys = (moving_average(ys, n=n_av))\n",
    "inds = np.where(smoothys > max(smoothys)*sig_fract)\n",
    "notinds = np.where(smoothys <= max(smoothys)*sig_fract)\n",
    "\n",
    "[a, b, c], err = np.polyfit(smoothxs[inds], smoothys[inds], 2, cov=True)\n",
    "# plt.plot(xs, vals[0]*xs*xs + vals[1]*xs + vals[2])\n",
    "# plotx = xs[inds]\n",
    "\n",
    "ax.scatter(smoothxs[inds], smoothys[inds], c='b', alpha=0.5, label='Points in Fit')\n",
    "ax.scatter(smoothxs[notinds], smoothys[notinds], c='k', alpha=0.2, label='Smoothed Points')\n",
    "\n",
    "plotx = smoothxs[inds]\n",
    "lowerlim = max(smoothys)*plot_fract\n",
    "quadx = np.arange((-b+np.sqrt(b*b - 4*a*(c-lowerlim)))/(2*a), (-b-np.sqrt(b*b - 4*a*(c-lowerlim)))/(2*a), 0.001)\n",
    "quady = a*quadx*quadx + b*quadx + c\n",
    "plotinds = np.where(quady > 0)\n",
    "\n",
    "ax.axhline(max(smoothys)*sig_fract, color='r', alpha=0.5, ls='--', label=f'Fraction={sig_fract}')\n",
    "ax.axvline(thresh_calc(pr1['edges'])[0], color='g', alpha=0.5, ls='--', label=f'Threshold')\n",
    "ax.plot(quadx, quady, c='b', alpha=0.6, label='Quadratic Fit')\n",
    "\n",
    "ax.legend(loc='best', bbox_to_anchor=(0.5, 0., 0.5, 0.45))\n",
    "ax.set(xlabel='Average number of edges per node', ylabel='Frequency', title='Determining the Percolation Threshold');\n",
    "plt.savefig('img/percthreshn5000.pdf')"
   ]
  },
  {
   "cell_type": "code",
   "execution_count": 140,
   "metadata": {},
   "outputs": [
    {
     "data": {
      "text/plain": [
       "[<matplotlib.lines.Line2D at 0x1a2fc68da0>]"
      ]
     },
     "execution_count": 140,
     "metadata": {},
     "output_type": "execute_result"
    },
    {
     "data": {
      "image/png": "[encoded data removed]",
      "text/plain": [
       "<Figure size 432x288 with 1 Axes>"
      ]
     },
     "metadata": {
      "needs_background": "light"
     },
     "output_type": "display_data"
    }
   ],
   "source": [
    "ss = np.arange(0.2, 0.85, 0.01)\n",
    "plt.plot(ss, [thresh_calc(pr1['edges'], sig_fract=s)[0] for s in ss])"
   ]
  },
  {
   "cell_type": "code",
   "execution_count": 20,
   "metadata": {
    "scrolled": false
   },
   "outputs": [
    {
     "name": "stderr",
     "output_type": "stream",
     "text": [
      "/anaconda3/lib/python3.7/site-packages/ipykernel_launcher.py:1: ParserWarning: Falling back to the 'python' engine because the 'c' engine does not support regex separators (separators > 1 char and different from '\\s+' are interpreted as regex); you can avoid this warning by specifying engine='python'.\n",
      "  \"\"\"Entry point for launching an IPython kernel.\n"
     ]
    }
   ],
   "source": [
    "r5000 = pd.read_csv('outputs/perc_r5000clean2.txt', names=['p', 'n', 'r', 'path'], delimiter=\" - \")\n",
    "r5000['e'] = mt.kernel_area2D(r5000['p'])*r5000['r']*r5000['r']*r5000['n']"
   ]
  },
  {
   "cell_type": "code",
   "execution_count": 60,
   "metadata": {},
   "outputs": [],
   "source": [
    "ps = [0.4, 0.6, 0.8, 1.0]\n",
    "threshs = [thresh_calc(r5000[np.abs(r5000['p']-p) < 0.01]['e'], sig_fract=0.6)[0] for p in ps]"
   ]
  },
  {
   "cell_type": "code",
   "execution_count": 61,
   "metadata": {},
   "outputs": [
    {
     "data": {
      "text/plain": [
       "[<matplotlib.lines.Line2D at 0x1a2009d160>]"
      ]
     },
     "execution_count": 61,
     "metadata": {},
     "output_type": "execute_result"
    },
    {
     "data": {
      "image/png": "[encoded data removed]",
      "text/plain": [
       "<Figure size 432x288 with 1 Axes>"
      ]
     },
     "metadata": {
      "needs_background": "light"
     },
     "output_type": "display_data"
    }
   ],
   "source": [
    "plt.plot(ps, threshs)"
   ]
  },
  {
   "cell_type": "code",
   "execution_count": 65,
   "metadata": {
    "scrolled": true
   },
   "outputs": [
    {
     "data": {
      "text/html": [
       "<div>\n",
       "<style scoped>\n",
       "    .dataframe tbody tr th:only-of-type {\n",
       "        vertical-align: middle;\n",
       "    }\n",
       "\n",
       "    .dataframe tbody tr th {\n",
       "        vertical-align: top;\n",
       "    }\n",
       "\n",
       "    .dataframe thead th {\n",
       "        text-align: right;\n",
       "    }\n",
       "</style>\n",
       "<table border=\"1\" class=\"dataframe\">\n",
       "  <thead>\n",
       "    <tr style=\"text-align: right;\">\n",
       "      <th></th>\n",
       "      <th>p</th>\n",
       "      <th>n</th>\n",
       "      <th>r</th>\n",
       "      <th>path</th>\n",
       "      <th>e</th>\n",
       "    </tr>\n",
       "  </thead>\n",
       "  <tbody>\n",
       "    <tr>\n",
       "      <th>3000</th>\n",
       "      <td>1.0</td>\n",
       "      <td>5000</td>\n",
       "      <td>0.029944</td>\n",
       "      <td>[[1.0, 1.0], [0.9886648792778865, 0.9819258251...</td>\n",
       "      <td>2.241549</td>\n",
       "    </tr>\n",
       "    <tr>\n",
       "      <th>3001</th>\n",
       "      <td>1.0</td>\n",
       "      <td>5000</td>\n",
       "      <td>0.035247</td>\n",
       "      <td>[[1.0, 1.0], [0.9731886203679041, 0.9915645283...</td>\n",
       "      <td>3.105851</td>\n",
       "    </tr>\n",
       "    <tr>\n",
       "      <th>3002</th>\n",
       "      <td>1.0</td>\n",
       "      <td>5000</td>\n",
       "      <td>0.034687</td>\n",
       "      <td>[[1.0, 1.0], [0.9864536298341452, 0.9830564451...</td>\n",
       "      <td>3.008018</td>\n",
       "    </tr>\n",
       "    <tr>\n",
       "      <th>3003</th>\n",
       "      <td>1.0</td>\n",
       "      <td>5000</td>\n",
       "      <td>0.034185</td>\n",
       "      <td>[[1.0, 1.0], [0.9819289435655779, 0.9898746649...</td>\n",
       "      <td>2.921600</td>\n",
       "    </tr>\n",
       "    <tr>\n",
       "      <th>3004</th>\n",
       "      <td>1.0</td>\n",
       "      <td>5000</td>\n",
       "      <td>0.031033</td>\n",
       "      <td>[[1.0, 1.0], [0.9820386696985378, 0.9958757295...</td>\n",
       "      <td>2.407583</td>\n",
       "    </tr>\n",
       "    <tr>\n",
       "      <th>3005</th>\n",
       "      <td>1.0</td>\n",
       "      <td>5000</td>\n",
       "      <td>0.030174</td>\n",
       "      <td>[[1.0, 1.0], [0.9955633524297663, 0.9857331015...</td>\n",
       "      <td>2.276151</td>\n",
       "    </tr>\n",
       "    <tr>\n",
       "      <th>3006</th>\n",
       "      <td>1.0</td>\n",
       "      <td>5000</td>\n",
       "      <td>0.032679</td>\n",
       "      <td>[[1.0, 1.0], [0.9934900146209719, 0.9839954840...</td>\n",
       "      <td>2.669817</td>\n",
       "    </tr>\n",
       "    <tr>\n",
       "      <th>3007</th>\n",
       "      <td>1.0</td>\n",
       "      <td>5000</td>\n",
       "      <td>0.030373</td>\n",
       "      <td>[[1.0, 1.0], [0.9984172928491095, 0.9849043146...</td>\n",
       "      <td>2.306360</td>\n",
       "    </tr>\n",
       "    <tr>\n",
       "      <th>3008</th>\n",
       "      <td>1.0</td>\n",
       "      <td>5000</td>\n",
       "      <td>0.030216</td>\n",
       "      <td>[[1.0, 1.0], [0.9746914981684343, 0.9982478013...</td>\n",
       "      <td>2.282535</td>\n",
       "    </tr>\n",
       "    <tr>\n",
       "      <th>3009</th>\n",
       "      <td>1.0</td>\n",
       "      <td>5000</td>\n",
       "      <td>0.032061</td>\n",
       "      <td>[[1.0, 1.0], [0.9980643744503479, 0.9699810169...</td>\n",
       "      <td>2.569746</td>\n",
       "    </tr>\n",
       "    <tr>\n",
       "      <th>3010</th>\n",
       "      <td>1.0</td>\n",
       "      <td>5000</td>\n",
       "      <td>0.028315</td>\n",
       "      <td>[[1.0, 1.0], [0.9855515489274809, 0.9969667017...</td>\n",
       "      <td>2.004405</td>\n",
       "    </tr>\n",
       "    <tr>\n",
       "      <th>3011</th>\n",
       "      <td>1.0</td>\n",
       "      <td>5000</td>\n",
       "      <td>0.033224</td>\n",
       "      <td>[[1.0, 1.0], [0.9889520235339451, 0.9802593662...</td>\n",
       "      <td>2.759516</td>\n",
       "    </tr>\n",
       "    <tr>\n",
       "      <th>3012</th>\n",
       "      <td>1.0</td>\n",
       "      <td>5000</td>\n",
       "      <td>0.030973</td>\n",
       "      <td>[[1.0, 1.0], [0.9806094516682798, 0.9948732826...</td>\n",
       "      <td>2.398316</td>\n",
       "    </tr>\n",
       "    <tr>\n",
       "      <th>3013</th>\n",
       "      <td>1.0</td>\n",
       "      <td>5000</td>\n",
       "      <td>0.036215</td>\n",
       "      <td>[[1.0, 1.0], [0.9990370107451104, 0.9743783090...</td>\n",
       "      <td>3.278850</td>\n",
       "    </tr>\n",
       "    <tr>\n",
       "      <th>3014</th>\n",
       "      <td>1.0</td>\n",
       "      <td>5000</td>\n",
       "      <td>0.029258</td>\n",
       "      <td>[[1.0, 1.0], [0.9944097191321017, 0.9871309154...</td>\n",
       "      <td>2.140139</td>\n",
       "    </tr>\n",
       "    <tr>\n",
       "      <th>3015</th>\n",
       "      <td>1.0</td>\n",
       "      <td>5000</td>\n",
       "      <td>0.031380</td>\n",
       "      <td>[[1.0, 1.0], [0.9920115655088342, 0.9854993110...</td>\n",
       "      <td>2.461701</td>\n",
       "    </tr>\n",
       "    <tr>\n",
       "      <th>3016</th>\n",
       "      <td>1.0</td>\n",
       "      <td>5000</td>\n",
       "      <td>0.033456</td>\n",
       "      <td>[[1.0, 1.0], [0.979798909127577, 0.99690269770...</td>\n",
       "      <td>2.798245</td>\n",
       "    </tr>\n",
       "    <tr>\n",
       "      <th>3017</th>\n",
       "      <td>1.0</td>\n",
       "      <td>5000</td>\n",
       "      <td>0.031042</td>\n",
       "      <td>[[1.0, 1.0], [0.9805653239683253, 0.9920133453...</td>\n",
       "      <td>2.409000</td>\n",
       "    </tr>\n",
       "    <tr>\n",
       "      <th>3018</th>\n",
       "      <td>1.0</td>\n",
       "      <td>5000</td>\n",
       "      <td>0.029083</td>\n",
       "      <td>[[1.0, 1.0], [0.9929830957756206, 0.9918177825...</td>\n",
       "      <td>2.114600</td>\n",
       "    </tr>\n",
       "    <tr>\n",
       "      <th>3019</th>\n",
       "      <td>1.0</td>\n",
       "      <td>5000</td>\n",
       "      <td>0.030648</td>\n",
       "      <td>[[1.0, 1.0], [0.9812737928660823, 0.9943483864...</td>\n",
       "      <td>2.348237</td>\n",
       "    </tr>\n",
       "    <tr>\n",
       "      <th>3020</th>\n",
       "      <td>1.0</td>\n",
       "      <td>5000</td>\n",
       "      <td>0.031271</td>\n",
       "      <td>[[1.0, 1.0], [0.9973891697895079, 0.9806169361...</td>\n",
       "      <td>2.444720</td>\n",
       "    </tr>\n",
       "    <tr>\n",
       "      <th>3021</th>\n",
       "      <td>1.0</td>\n",
       "      <td>5000</td>\n",
       "      <td>0.028944</td>\n",
       "      <td>[[1.0, 1.0], [0.9826752905260284, 0.9994221470...</td>\n",
       "      <td>2.094435</td>\n",
       "    </tr>\n",
       "    <tr>\n",
       "      <th>3022</th>\n",
       "      <td>1.0</td>\n",
       "      <td>5000</td>\n",
       "      <td>0.029480</td>\n",
       "      <td>[[1.0, 1.0], [0.9782051626167848, 0.9979618806...</td>\n",
       "      <td>2.172677</td>\n",
       "    </tr>\n",
       "    <tr>\n",
       "      <th>3023</th>\n",
       "      <td>1.0</td>\n",
       "      <td>5000</td>\n",
       "      <td>0.030683</td>\n",
       "      <td>[[1.0, 1.0], [0.9981469224489211, 0.9886924729...</td>\n",
       "      <td>2.353597</td>\n",
       "    </tr>\n",
       "    <tr>\n",
       "      <th>3024</th>\n",
       "      <td>1.0</td>\n",
       "      <td>5000</td>\n",
       "      <td>0.028992</td>\n",
       "      <td>[[1.0, 1.0], [0.9949348031832163, 0.9902223295...</td>\n",
       "      <td>2.101286</td>\n",
       "    </tr>\n",
       "    <tr>\n",
       "      <th>3025</th>\n",
       "      <td>1.0</td>\n",
       "      <td>5000</td>\n",
       "      <td>0.029425</td>\n",
       "      <td>[[1.0, 1.0], [0.9762640191482654, 0.9977342229...</td>\n",
       "      <td>2.164598</td>\n",
       "    </tr>\n",
       "    <tr>\n",
       "      <th>3026</th>\n",
       "      <td>1.0</td>\n",
       "      <td>5000</td>\n",
       "      <td>0.029793</td>\n",
       "      <td>[[1.0, 1.0], [0.9830222104577557, 0.9892981961...</td>\n",
       "      <td>2.219075</td>\n",
       "    </tr>\n",
       "    <tr>\n",
       "      <th>3027</th>\n",
       "      <td>1.0</td>\n",
       "      <td>5000</td>\n",
       "      <td>0.039832</td>\n",
       "      <td>[[1.0, 1.0], [0.9892124066275665, 0.9903716101...</td>\n",
       "      <td>3.966384</td>\n",
       "    </tr>\n",
       "    <tr>\n",
       "      <th>3028</th>\n",
       "      <td>1.0</td>\n",
       "      <td>5000</td>\n",
       "      <td>0.028138</td>\n",
       "      <td>[[1.0, 1.0], [0.9820837700421939, 0.9965628348...</td>\n",
       "      <td>1.979374</td>\n",
       "    </tr>\n",
       "    <tr>\n",
       "      <th>3029</th>\n",
       "      <td>1.0</td>\n",
       "      <td>5000</td>\n",
       "      <td>0.033300</td>\n",
       "      <td>[[1.0, 1.0], [0.988083133424955, 0.98253700511...</td>\n",
       "      <td>2.772153</td>\n",
       "    </tr>\n",
       "    <tr>\n",
       "      <th>...</th>\n",
       "      <td>...</td>\n",
       "      <td>...</td>\n",
       "      <td>...</td>\n",
       "      <td>...</td>\n",
       "      <td>...</td>\n",
       "    </tr>\n",
       "    <tr>\n",
       "      <th>3199</th>\n",
       "      <td>1.0</td>\n",
       "      <td>5000</td>\n",
       "      <td>0.033385</td>\n",
       "      <td>[[1.0, 1.0], [0.9981310878074544, 0.9897518046...</td>\n",
       "      <td>2.786382</td>\n",
       "    </tr>\n",
       "    <tr>\n",
       "      <th>3200</th>\n",
       "      <td>1.0</td>\n",
       "      <td>5000</td>\n",
       "      <td>0.029783</td>\n",
       "      <td>[[1.0, 1.0], [0.9932171333602917, 0.9903299784...</td>\n",
       "      <td>2.217518</td>\n",
       "    </tr>\n",
       "    <tr>\n",
       "      <th>3201</th>\n",
       "      <td>1.0</td>\n",
       "      <td>5000</td>\n",
       "      <td>0.031253</td>\n",
       "      <td>[[1.0, 1.0], [0.977378123494289, 0.99223714965...</td>\n",
       "      <td>2.441893</td>\n",
       "    </tr>\n",
       "    <tr>\n",
       "      <th>3202</th>\n",
       "      <td>1.0</td>\n",
       "      <td>5000</td>\n",
       "      <td>0.030479</td>\n",
       "      <td>[[1.0, 1.0], [0.9892472956692591, 0.9889130683...</td>\n",
       "      <td>2.322390</td>\n",
       "    </tr>\n",
       "    <tr>\n",
       "      <th>3203</th>\n",
       "      <td>1.0</td>\n",
       "      <td>5000</td>\n",
       "      <td>0.029302</td>\n",
       "      <td>[[1.0, 1.0], [0.9901748799315957, 0.9979015178...</td>\n",
       "      <td>2.146520</td>\n",
       "    </tr>\n",
       "    <tr>\n",
       "      <th>3204</th>\n",
       "      <td>1.0</td>\n",
       "      <td>5000</td>\n",
       "      <td>0.033394</td>\n",
       "      <td>[[1.0, 1.0], [0.9801276378091989, 0.9950500052...</td>\n",
       "      <td>2.787842</td>\n",
       "    </tr>\n",
       "    <tr>\n",
       "      <th>3205</th>\n",
       "      <td>1.0</td>\n",
       "      <td>5000</td>\n",
       "      <td>0.030056</td>\n",
       "      <td>[[1.0, 1.0], [0.9795864652013127, 0.9992572302...</td>\n",
       "      <td>2.258390</td>\n",
       "    </tr>\n",
       "    <tr>\n",
       "      <th>3206</th>\n",
       "      <td>1.0</td>\n",
       "      <td>5000</td>\n",
       "      <td>0.031810</td>\n",
       "      <td>[[1.0, 1.0], [0.9793768112592256, 0.9999266644...</td>\n",
       "      <td>2.529676</td>\n",
       "    </tr>\n",
       "    <tr>\n",
       "      <th>3207</th>\n",
       "      <td>1.0</td>\n",
       "      <td>5000</td>\n",
       "      <td>0.028352</td>\n",
       "      <td>[[1.0, 1.0], [0.9964699271099925, 0.9895239361...</td>\n",
       "      <td>2.009586</td>\n",
       "    </tr>\n",
       "    <tr>\n",
       "      <th>3208</th>\n",
       "      <td>1.0</td>\n",
       "      <td>5000</td>\n",
       "      <td>0.032530</td>\n",
       "      <td>[[1.0, 1.0], [0.9840553845310801, 0.9902156563...</td>\n",
       "      <td>2.645579</td>\n",
       "    </tr>\n",
       "    <tr>\n",
       "      <th>3209</th>\n",
       "      <td>1.0</td>\n",
       "      <td>5000</td>\n",
       "      <td>0.032819</td>\n",
       "      <td>[[1.0, 1.0], [0.9755006748294848, 0.9957499424...</td>\n",
       "      <td>2.692702</td>\n",
       "    </tr>\n",
       "    <tr>\n",
       "      <th>3210</th>\n",
       "      <td>1.0</td>\n",
       "      <td>5000</td>\n",
       "      <td>0.033860</td>\n",
       "      <td>[[1.0, 1.0], [0.9847206226122875, 0.9892973539...</td>\n",
       "      <td>2.866290</td>\n",
       "    </tr>\n",
       "    <tr>\n",
       "      <th>3211</th>\n",
       "      <td>1.0</td>\n",
       "      <td>5000</td>\n",
       "      <td>0.034518</td>\n",
       "      <td>[[1.0, 1.0], [0.9989084586789456, 0.9702818096...</td>\n",
       "      <td>2.978747</td>\n",
       "    </tr>\n",
       "    <tr>\n",
       "      <th>3212</th>\n",
       "      <td>1.0</td>\n",
       "      <td>5000</td>\n",
       "      <td>0.030051</td>\n",
       "      <td>[[1.0, 1.0], [0.9953085808947973, 0.9783709507...</td>\n",
       "      <td>2.257693</td>\n",
       "    </tr>\n",
       "    <tr>\n",
       "      <th>3213</th>\n",
       "      <td>1.0</td>\n",
       "      <td>5000</td>\n",
       "      <td>0.032188</td>\n",
       "      <td>[[1.0, 1.0], [0.9722555843249928, 0.9955560592...</td>\n",
       "      <td>2.590226</td>\n",
       "    </tr>\n",
       "    <tr>\n",
       "      <th>3214</th>\n",
       "      <td>1.0</td>\n",
       "      <td>5000</td>\n",
       "      <td>0.038222</td>\n",
       "      <td>[[1.0, 1.0], [0.9909480227593147, 0.9806823930...</td>\n",
       "      <td>3.652279</td>\n",
       "    </tr>\n",
       "    <tr>\n",
       "      <th>3215</th>\n",
       "      <td>1.0</td>\n",
       "      <td>5000</td>\n",
       "      <td>0.030761</td>\n",
       "      <td>[[1.0, 1.0], [0.9978225404388267, 0.9876040751...</td>\n",
       "      <td>2.365530</td>\n",
       "    </tr>\n",
       "    <tr>\n",
       "      <th>3216</th>\n",
       "      <td>1.0</td>\n",
       "      <td>5000</td>\n",
       "      <td>0.030445</td>\n",
       "      <td>[[1.0, 1.0], [0.9930056154700827, 0.9865416459...</td>\n",
       "      <td>2.317288</td>\n",
       "    </tr>\n",
       "    <tr>\n",
       "      <th>3217</th>\n",
       "      <td>1.0</td>\n",
       "      <td>5000</td>\n",
       "      <td>0.038228</td>\n",
       "      <td>[[1.0, 1.0], [0.994367719000022, 0.98613910320...</td>\n",
       "      <td>3.653434</td>\n",
       "    </tr>\n",
       "    <tr>\n",
       "      <th>3218</th>\n",
       "      <td>1.0</td>\n",
       "      <td>5000</td>\n",
       "      <td>0.031499</td>\n",
       "      <td>[[1.0, 1.0], [0.9962722030658809, 0.9849078717...</td>\n",
       "      <td>2.480499</td>\n",
       "    </tr>\n",
       "    <tr>\n",
       "      <th>3219</th>\n",
       "      <td>1.0</td>\n",
       "      <td>5000</td>\n",
       "      <td>0.029202</td>\n",
       "      <td>[[1.0, 1.0], [0.9929240286254634, 0.9911522395...</td>\n",
       "      <td>2.131944</td>\n",
       "    </tr>\n",
       "    <tr>\n",
       "      <th>3220</th>\n",
       "      <td>1.0</td>\n",
       "      <td>5000</td>\n",
       "      <td>0.031552</td>\n",
       "      <td>[[1.0, 1.0], [0.9800498986023425, 0.9959703024...</td>\n",
       "      <td>2.488801</td>\n",
       "    </tr>\n",
       "    <tr>\n",
       "      <th>3221</th>\n",
       "      <td>1.0</td>\n",
       "      <td>5000</td>\n",
       "      <td>0.028907</td>\n",
       "      <td>[[1.0, 1.0], [0.9933507671910475, 0.9842355381...</td>\n",
       "      <td>2.088988</td>\n",
       "    </tr>\n",
       "    <tr>\n",
       "      <th>3222</th>\n",
       "      <td>1.0</td>\n",
       "      <td>5000</td>\n",
       "      <td>0.028349</td>\n",
       "      <td>[[1.0, 1.0], [0.9929928424350354, 0.9820622183...</td>\n",
       "      <td>2.009097</td>\n",
       "    </tr>\n",
       "    <tr>\n",
       "      <th>3223</th>\n",
       "      <td>1.0</td>\n",
       "      <td>5000</td>\n",
       "      <td>0.031552</td>\n",
       "      <td>[[1.0, 1.0], [0.9949835250794062, 0.9860260429...</td>\n",
       "      <td>2.488811</td>\n",
       "    </tr>\n",
       "    <tr>\n",
       "      <th>3224</th>\n",
       "      <td>1.0</td>\n",
       "      <td>5000</td>\n",
       "      <td>0.029554</td>\n",
       "      <td>[[1.0, 1.0], [0.9949539770940395, 0.9754920866...</td>\n",
       "      <td>2.183588</td>\n",
       "    </tr>\n",
       "    <tr>\n",
       "      <th>3225</th>\n",
       "      <td>1.0</td>\n",
       "      <td>5000</td>\n",
       "      <td>0.030780</td>\n",
       "      <td>[[1.0, 1.0], [0.9826963801652615, 0.9885136469...</td>\n",
       "      <td>2.368460</td>\n",
       "    </tr>\n",
       "    <tr>\n",
       "      <th>3226</th>\n",
       "      <td>1.0</td>\n",
       "      <td>5000</td>\n",
       "      <td>0.032073</td>\n",
       "      <td>[[1.0, 1.0], [0.9833860681267405, 0.9855944663...</td>\n",
       "      <td>2.571658</td>\n",
       "    </tr>\n",
       "    <tr>\n",
       "      <th>3227</th>\n",
       "      <td>1.0</td>\n",
       "      <td>5000</td>\n",
       "      <td>0.045873</td>\n",
       "      <td>[[1.0, 1.0], [0.9938215506085359, 0.9781477099...</td>\n",
       "      <td>5.260772</td>\n",
       "    </tr>\n",
       "    <tr>\n",
       "      <th>3228</th>\n",
       "      <td>1.0</td>\n",
       "      <td>5000</td>\n",
       "      <td>0.029697</td>\n",
       "      <td>[[1.0, 1.0], [0.9811383072183358, 0.9991474323...</td>\n",
       "      <td>2.204846</td>\n",
       "    </tr>\n",
       "  </tbody>\n",
       "</table>\n",
       "<p>229 rows × 5 columns</p>\n",
       "</div>"
      ],
      "text/plain": [
       "        p     n         r                                               path  \\\n",
       "3000  1.0  5000  0.029944  [[1.0, 1.0], [0.9886648792778865, 0.9819258251...   \n",
       "3001  1.0  5000  0.035247  [[1.0, 1.0], [0.9731886203679041, 0.9915645283...   \n",
       "3002  1.0  5000  0.034687  [[1.0, 1.0], [0.9864536298341452, 0.9830564451...   \n",
       "3003  1.0  5000  0.034185  [[1.0, 1.0], [0.9819289435655779, 0.9898746649...   \n",
       "3004  1.0  5000  0.031033  [[1.0, 1.0], [0.9820386696985378, 0.9958757295...   \n",
       "3005  1.0  5000  0.030174  [[1.0, 1.0], [0.9955633524297663, 0.9857331015...   \n",
       "3006  1.0  5000  0.032679  [[1.0, 1.0], [0.9934900146209719, 0.9839954840...   \n",
       "3007  1.0  5000  0.030373  [[1.0, 1.0], [0.9984172928491095, 0.9849043146...   \n",
       "3008  1.0  5000  0.030216  [[1.0, 1.0], [0.9746914981684343, 0.9982478013...   \n",
       "3009  1.0  5000  0.032061  [[1.0, 1.0], [0.9980643744503479, 0.9699810169...   \n",
       "3010  1.0  5000  0.028315  [[1.0, 1.0], [0.9855515489274809, 0.9969667017...   \n",
       "3011  1.0  5000  0.033224  [[1.0, 1.0], [0.9889520235339451, 0.9802593662...   \n",
       "3012  1.0  5000  0.030973  [[1.0, 1.0], [0.9806094516682798, 0.9948732826...   \n",
       "3013  1.0  5000  0.036215  [[1.0, 1.0], [0.9990370107451104, 0.9743783090...   \n",
       "3014  1.0  5000  0.029258  [[1.0, 1.0], [0.9944097191321017, 0.9871309154...   \n",
       "3015  1.0  5000  0.031380  [[1.0, 1.0], [0.9920115655088342, 0.9854993110...   \n",
       "3016  1.0  5000  0.033456  [[1.0, 1.0], [0.979798909127577, 0.99690269770...   \n",
       "3017  1.0  5000  0.031042  [[1.0, 1.0], [0.9805653239683253, 0.9920133453...   \n",
       "3018  1.0  5000  0.029083  [[1.0, 1.0], [0.9929830957756206, 0.9918177825...   \n",
       "3019  1.0  5000  0.030648  [[1.0, 1.0], [0.9812737928660823, 0.9943483864...   \n",
       "3020  1.0  5000  0.031271  [[1.0, 1.0], [0.9973891697895079, 0.9806169361...   \n",
       "3021  1.0  5000  0.028944  [[1.0, 1.0], [0.9826752905260284, 0.9994221470...   \n",
       "3022  1.0  5000  0.029480  [[1.0, 1.0], [0.9782051626167848, 0.9979618806...   \n",
       "3023  1.0  5000  0.030683  [[1.0, 1.0], [0.9981469224489211, 0.9886924729...   \n",
       "3024  1.0  5000  0.028992  [[1.0, 1.0], [0.9949348031832163, 0.9902223295...   \n",
       "3025  1.0  5000  0.029425  [[1.0, 1.0], [0.9762640191482654, 0.9977342229...   \n",
       "3026  1.0  5000  0.029793  [[1.0, 1.0], [0.9830222104577557, 0.9892981961...   \n",
       "3027  1.0  5000  0.039832  [[1.0, 1.0], [0.9892124066275665, 0.9903716101...   \n",
       "3028  1.0  5000  0.028138  [[1.0, 1.0], [0.9820837700421939, 0.9965628348...   \n",
       "3029  1.0  5000  0.033300  [[1.0, 1.0], [0.988083133424955, 0.98253700511...   \n",
       "...   ...   ...       ...                                                ...   \n",
       "3199  1.0  5000  0.033385  [[1.0, 1.0], [0.9981310878074544, 0.9897518046...   \n",
       "3200  1.0  5000  0.029783  [[1.0, 1.0], [0.9932171333602917, 0.9903299784...   \n",
       "3201  1.0  5000  0.031253  [[1.0, 1.0], [0.977378123494289, 0.99223714965...   \n",
       "3202  1.0  5000  0.030479  [[1.0, 1.0], [0.9892472956692591, 0.9889130683...   \n",
       "3203  1.0  5000  0.029302  [[1.0, 1.0], [0.9901748799315957, 0.9979015178...   \n",
       "3204  1.0  5000  0.033394  [[1.0, 1.0], [0.9801276378091989, 0.9950500052...   \n",
       "3205  1.0  5000  0.030056  [[1.0, 1.0], [0.9795864652013127, 0.9992572302...   \n",
       "3206  1.0  5000  0.031810  [[1.0, 1.0], [0.9793768112592256, 0.9999266644...   \n",
       "3207  1.0  5000  0.028352  [[1.0, 1.0], [0.9964699271099925, 0.9895239361...   \n",
       "3208  1.0  5000  0.032530  [[1.0, 1.0], [0.9840553845310801, 0.9902156563...   \n",
       "3209  1.0  5000  0.032819  [[1.0, 1.0], [0.9755006748294848, 0.9957499424...   \n",
       "3210  1.0  5000  0.033860  [[1.0, 1.0], [0.9847206226122875, 0.9892973539...   \n",
       "3211  1.0  5000  0.034518  [[1.0, 1.0], [0.9989084586789456, 0.9702818096...   \n",
       "3212  1.0  5000  0.030051  [[1.0, 1.0], [0.9953085808947973, 0.9783709507...   \n",
       "3213  1.0  5000  0.032188  [[1.0, 1.0], [0.9722555843249928, 0.9955560592...   \n",
       "3214  1.0  5000  0.038222  [[1.0, 1.0], [0.9909480227593147, 0.9806823930...   \n",
       "3215  1.0  5000  0.030761  [[1.0, 1.0], [0.9978225404388267, 0.9876040751...   \n",
       "3216  1.0  5000  0.030445  [[1.0, 1.0], [0.9930056154700827, 0.9865416459...   \n",
       "3217  1.0  5000  0.038228  [[1.0, 1.0], [0.994367719000022, 0.98613910320...   \n",
       "3218  1.0  5000  0.031499  [[1.0, 1.0], [0.9962722030658809, 0.9849078717...   \n",
       "3219  1.0  5000  0.029202  [[1.0, 1.0], [0.9929240286254634, 0.9911522395...   \n",
       "3220  1.0  5000  0.031552  [[1.0, 1.0], [0.9800498986023425, 0.9959703024...   \n",
       "3221  1.0  5000  0.028907  [[1.0, 1.0], [0.9933507671910475, 0.9842355381...   \n",
       "3222  1.0  5000  0.028349  [[1.0, 1.0], [0.9929928424350354, 0.9820622183...   \n",
       "3223  1.0  5000  0.031552  [[1.0, 1.0], [0.9949835250794062, 0.9860260429...   \n",
       "3224  1.0  5000  0.029554  [[1.0, 1.0], [0.9949539770940395, 0.9754920866...   \n",
       "3225  1.0  5000  0.030780  [[1.0, 1.0], [0.9826963801652615, 0.9885136469...   \n",
       "3226  1.0  5000  0.032073  [[1.0, 1.0], [0.9833860681267405, 0.9855944663...   \n",
       "3227  1.0  5000  0.045873  [[1.0, 1.0], [0.9938215506085359, 0.9781477099...   \n",
       "3228  1.0  5000  0.029697  [[1.0, 1.0], [0.9811383072183358, 0.9991474323...   \n",
       "\n",
       "             e  \n",
       "3000  2.241549  \n",
       "3001  3.105851  \n",
       "3002  3.008018  \n",
       "3003  2.921600  \n",
       "3004  2.407583  \n",
       "3005  2.276151  \n",
       "3006  2.669817  \n",
       "3007  2.306360  \n",
       "3008  2.282535  \n",
       "3009  2.569746  \n",
       "3010  2.004405  \n",
       "3011  2.759516  \n",
       "3012  2.398316  \n",
       "3013  3.278850  \n",
       "3014  2.140139  \n",
       "3015  2.461701  \n",
       "3016  2.798245  \n",
       "3017  2.409000  \n",
       "3018  2.114600  \n",
       "3019  2.348237  \n",
       "3020  2.444720  \n",
       "3021  2.094435  \n",
       "3022  2.172677  \n",
       "3023  2.353597  \n",
       "3024  2.101286  \n",
       "3025  2.164598  \n",
       "3026  2.219075  \n",
       "3027  3.966384  \n",
       "3028  1.979374  \n",
       "3029  2.772153  \n",
       "...        ...  \n",
       "3199  2.786382  \n",
       "3200  2.217518  \n",
       "3201  2.441893  \n",
       "3202  2.322390  \n",
       "3203  2.146520  \n",
       "3204  2.787842  \n",
       "3205  2.258390  \n",
       "3206  2.529676  \n",
       "3207  2.009586  \n",
       "3208  2.645579  \n",
       "3209  2.692702  \n",
       "3210  2.866290  \n",
       "3211  2.978747  \n",
       "3212  2.257693  \n",
       "3213  2.590226  \n",
       "3214  3.652279  \n",
       "3215  2.365530  \n",
       "3216  2.317288  \n",
       "3217  3.653434  \n",
       "3218  2.480499  \n",
       "3219  2.131944  \n",
       "3220  2.488801  \n",
       "3221  2.088988  \n",
       "3222  2.009097  \n",
       "3223  2.488811  \n",
       "3224  2.183588  \n",
       "3225  2.368460  \n",
       "3226  2.571658  \n",
       "3227  5.260772  \n",
       "3228  2.204846  \n",
       "\n",
       "[229 rows x 5 columns]"
      ]
     },
     "execution_count": 65,
     "metadata": {},
     "output_type": "execute_result"
    }
   ],
   "source": [
    "r5000[np.abs(r5000['p']-1) < .01]"
   ]
  },
  {
   "cell_type": "code",
   "execution_count": 52,
   "metadata": {},
   "outputs": [
    {
     "ename": "ValueError",
     "evalue": "the number of data points must exceed order to scale the covariance matrix",
     "output_type": "error",
     "traceback": [
      "\u001b[0;31m---------------------------------------------------------------------------\u001b[0m",
      "\u001b[0;31mValueError\u001b[0m                                Traceback (most recent call last)",
      "\u001b[0;32m<ipython-input-52-9f3a979e63d9>\u001b[0m in \u001b[0;36m<module>\u001b[0;34m\u001b[0m\n\u001b[0;32m----> 1\u001b[0;31m \u001b[0mthresh_calc\u001b[0m\u001b[0;34m(\u001b[0m\u001b[0mr5000\u001b[0m\u001b[0;34m[\u001b[0m\u001b[0mnp\u001b[0m\u001b[0;34m.\u001b[0m\u001b[0mabs\u001b[0m\u001b[0;34m(\u001b[0m\u001b[0mr5000\u001b[0m\u001b[0;34m[\u001b[0m\u001b[0;34m'p'\u001b[0m\u001b[0;34m]\u001b[0m\u001b[0;34m-\u001b[0m\u001b[0;36m.6\u001b[0m\u001b[0;34m)\u001b[0m \u001b[0;34m<\u001b[0m \u001b[0;36m0.01\u001b[0m\u001b[0;34m]\u001b[0m\u001b[0;34m[\u001b[0m\u001b[0;34m'e'\u001b[0m\u001b[0;34m]\u001b[0m\u001b[0;34m)\u001b[0m\u001b[0;34m[\u001b[0m\u001b[0;36m0\u001b[0m\u001b[0;34m]\u001b[0m\u001b[0;34m\u001b[0m\u001b[0;34m\u001b[0m\u001b[0m\n\u001b[0m",
      "\u001b[0;32m<ipython-input-37-5c78cd5a0843>\u001b[0m in \u001b[0;36mthresh_calc\u001b[0;34m(data, sig_fract, n_av, bins)\u001b[0m\n\u001b[1;32m     13\u001b[0m     \u001b[0minds\u001b[0m \u001b[0;34m=\u001b[0m \u001b[0mnp\u001b[0m\u001b[0;34m.\u001b[0m\u001b[0mwhere\u001b[0m\u001b[0;34m(\u001b[0m\u001b[0msmoothys\u001b[0m \u001b[0;34m>\u001b[0m \u001b[0mmax\u001b[0m\u001b[0;34m(\u001b[0m\u001b[0msmoothys\u001b[0m\u001b[0;34m)\u001b[0m\u001b[0;34m*\u001b[0m\u001b[0msig_fract\u001b[0m\u001b[0;34m)\u001b[0m\u001b[0;34m\u001b[0m\u001b[0;34m\u001b[0m\u001b[0m\n\u001b[1;32m     14\u001b[0m \u001b[0;34m\u001b[0m\u001b[0m\n\u001b[0;32m---> 15\u001b[0;31m     \u001b[0mvals\u001b[0m\u001b[0;34m,\u001b[0m \u001b[0merr\u001b[0m \u001b[0;34m=\u001b[0m \u001b[0mnp\u001b[0m\u001b[0;34m.\u001b[0m\u001b[0mpolyfit\u001b[0m\u001b[0;34m(\u001b[0m\u001b[0msmoothxs\u001b[0m\u001b[0;34m[\u001b[0m\u001b[0minds\u001b[0m\u001b[0;34m]\u001b[0m\u001b[0;34m,\u001b[0m \u001b[0msmoothys\u001b[0m\u001b[0;34m[\u001b[0m\u001b[0minds\u001b[0m\u001b[0;34m]\u001b[0m\u001b[0;34m,\u001b[0m \u001b[0;36m2\u001b[0m\u001b[0;34m,\u001b[0m \u001b[0mcov\u001b[0m\u001b[0;34m=\u001b[0m\u001b[0;32mTrue\u001b[0m\u001b[0;34m)\u001b[0m\u001b[0;34m\u001b[0m\u001b[0;34m\u001b[0m\u001b[0m\n\u001b[0m\u001b[1;32m     16\u001b[0m \u001b[0;34m\u001b[0m\u001b[0m\n\u001b[1;32m     17\u001b[0m     \u001b[0mstat_point\u001b[0m \u001b[0;34m=\u001b[0m \u001b[0;34m-\u001b[0m\u001b[0;36m.5\u001b[0m\u001b[0;34m*\u001b[0m\u001b[0mvals\u001b[0m\u001b[0;34m[\u001b[0m\u001b[0;36m1\u001b[0m\u001b[0;34m]\u001b[0m\u001b[0;34m/\u001b[0m\u001b[0mvals\u001b[0m\u001b[0;34m[\u001b[0m\u001b[0;36m0\u001b[0m\u001b[0;34m]\u001b[0m\u001b[0;34m\u001b[0m\u001b[0;34m\u001b[0m\u001b[0m\n",
      "\u001b[0;32m/anaconda3/lib/python3.7/site-packages/numpy/lib/polynomial.py\u001b[0m in \u001b[0;36mpolyfit\u001b[0;34m(x, y, deg, rcond, full, w, cov)\u001b[0m\n\u001b[1;32m    643\u001b[0m         \u001b[0;32melse\u001b[0m\u001b[0;34m:\u001b[0m\u001b[0;34m\u001b[0m\u001b[0;34m\u001b[0m\u001b[0m\n\u001b[1;32m    644\u001b[0m             \u001b[0;32mif\u001b[0m \u001b[0mlen\u001b[0m\u001b[0;34m(\u001b[0m\u001b[0mx\u001b[0m\u001b[0;34m)\u001b[0m \u001b[0;34m<=\u001b[0m \u001b[0morder\u001b[0m\u001b[0;34m:\u001b[0m\u001b[0;34m\u001b[0m\u001b[0;34m\u001b[0m\u001b[0m\n\u001b[0;32m--> 645\u001b[0;31m                 raise ValueError(\"the number of data points must exceed order \"\n\u001b[0m\u001b[1;32m    646\u001b[0m                                  \"to scale the covariance matrix\")\n\u001b[1;32m    647\u001b[0m             \u001b[0;31m# note, this used to be: fac = resids / (len(x) - order - 2.0)\u001b[0m\u001b[0;34m\u001b[0m\u001b[0;34m\u001b[0m\u001b[0;34m\u001b[0m\u001b[0m\n",
      "\u001b[0;31mValueError\u001b[0m: the number of data points must exceed order to scale the covariance matrix"
     ]
    }
   ],
   "source": [
    "thresh_calc(r5000[np.abs(r5000['p']-p) < 0.01]['e'])[0]"
   ]
  },
  {
   "cell_type": "code",
   "execution_count": 59,
   "metadata": {},
   "outputs": [
    {
     "data": {
      "text/plain": [
       "(2.121405506033421, 0.04054365568128848)"
      ]
     },
     "execution_count": 59,
     "metadata": {},
     "output_type": "execute_result"
    }
   ],
   "source": [
    "thresh_calc(r5000[np.abs(r5000['p']-0.6) < .1]['e'], sig_fract=.6)"
   ]
  },
  {
   "cell_type": "code",
   "execution_count": null,
   "metadata": {},
   "outputs": [],
   "source": []
  }
 ],
 "metadata": {
  "kernelspec": {
   "display_name": "Python 3",
   "language": "python",
   "name": "python3"
  },
  "language_info": {
   "codemirror_mode": {
    "name": "ipython",
    "version": 3
   },
   "file_extension": ".py",
   "mimetype": "text/x-python",
   "name": "python",
   "nbconvert_exporter": "python",
   "pygments_lexer": "ipython3",
   "version": "3.7.3"
  }
 },
 "nbformat": 4,
 "nbformat_minor": 2
}
